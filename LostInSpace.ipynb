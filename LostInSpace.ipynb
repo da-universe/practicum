{
 "metadata": {
  "kernelspec": {
   "language": "python",
   "display_name": "Python 3",
   "name": "python3"
  },
  "language_info": {
   "pygments_lexer": "ipython3",
   "nbconvert_exporter": "python",
   "version": "3.6.4",
   "file_extension": ".py",
   "codemirror_mode": {
    "name": "ipython",
    "version": 3
   },
   "name": "python",
   "mimetype": "text/x-python"
  }
 },
 "nbformat_minor": 4,
 "nbformat": 4,
 "cells": [
  {
   "cell_type": "code",
   "source": [
    "# Импортируем библиотеки\n",
    "import pandas as pd\n",
    "import warnings\n",
    "import numpy as np\n",
    "\n",
    "from sklearn.preprocessing import OneHotEncoder, OrdinalEncoder\n",
    "from sklearn.preprocessing import StandardScaler, MinMaxScaler\n",
    "from sklearn.compose import ColumnTransformer\n",
    "\n",
    "from feature_engine.selection import DropCorrelatedFeatures, DropDuplicateFeatures\n",
    "\n",
    "from sklearn.impute import KNNImputer\n",
    "from sklearn.experimental import enable_iterative_imputer\n",
    "from sklearn.impute import IterativeImputer\n",
    "\n",
    "from imblearn import FunctionSampler\n",
    "from sklearn.neighbors import LocalOutlierFactor\n",
    "\n",
    "from sklearn.dummy import DummyClassifier\n",
    "from sklearn.ensemble import RandomForestClassifier\n",
    "from catboost import CatBoostClassifier\n",
    "from lightgbm import LGBMClassifier\n",
    "from sklearn import svm\n",
    "\n",
    "from sklearn.pipeline import Pipeline\n",
    "from imblearn.pipeline import make_pipeline\n",
    "\n",
    "from sklearn.model_selection import RandomizedSearchCV\n",
    "\n",
    "warnings.filterwarnings('ignore')\n",
    "np.random.seed(seed=42)"
   ],
   "metadata": {
    "_uuid": "8f2839f25d086af736a60e9eeb907d3b93b6e0e5",
    "_cell_guid": "b1076dfc-b9ad-4769-8c92-a6c4dae69d19",
    "execution": {
     "iopub.status.busy": "2023-01-05T18:19:33.003707Z",
     "iopub.execute_input": "2023-01-05T18:19:33.004077Z",
     "iopub.status.idle": "2023-01-05T18:19:33.012903Z",
     "shell.execute_reply.started": "2023-01-05T18:19:33.004044Z",
     "shell.execute_reply": "2023-01-05T18:19:33.011761Z"
    },
    "trusted": true
   },
   "execution_count": 92,
   "outputs": []
  },
  {
   "cell_type": "code",
   "source": [
    "test_csv = pd.read_csv('./datasets/test.csv')\n",
    "train_csv = pd.read_csv('./datasets/train.csv')\n",
    "\n",
    "display(test_csv.head())\n",
    "display(train_csv.head())"
   ],
   "metadata": {
    "execution": {
     "iopub.status.busy": "2023-01-05T18:20:06.516416Z",
     "iopub.execute_input": "2023-01-05T18:20:06.516798Z",
     "iopub.status.idle": "2023-01-05T18:20:06.563126Z",
     "shell.execute_reply.started": "2023-01-05T18:20:06.516767Z",
     "shell.execute_reply": "2023-01-05T18:20:06.562034Z"
    },
    "trusted": true
   },
   "execution_count": 93,
   "outputs": [
    {
     "data": {
      "text/plain": "  PassengerId HomePlanet CryoSleep     Cabin    Destination   Age    VIP  \\\n0     8026_01       Mars      True  F/1534/S    TRAPPIST-1e  29.0  False   \n1     6734_03     Europa      True   C/249/S    55 Cancri e  37.0   True   \n2     8186_04      Earth      True  G/1319/S  PSO J318.5-22  23.0  False   \n3     4942_02      Earth      True   G/806/S    TRAPPIST-1e  36.0  False   \n4     8640_01      Earth     False  F/1666/S            NaN  50.0  False   \n\n   RoomService  FoodCourt  ShoppingMall  Spa  VRDeck                Name  \n0          0.0        0.0           0.0  0.0     0.0          Losp Ruité  \n1          0.0        0.0           0.0  0.0     0.0   Alhaino Sparsaxle  \n2          0.0        0.0           0.0  0.0     0.0   Rayley Jenkinnedy  \n3          0.0        0.0           0.0  0.0     0.0       Coreee Reenon  \n4        133.0        0.0         525.0  0.0    31.0  Diandy Hurchrisong  ",
      "text/html": "<div>\n<style scoped>\n    .dataframe tbody tr th:only-of-type {\n        vertical-align: middle;\n    }\n\n    .dataframe tbody tr th {\n        vertical-align: top;\n    }\n\n    .dataframe thead th {\n        text-align: right;\n    }\n</style>\n<table border=\"1\" class=\"dataframe\">\n  <thead>\n    <tr style=\"text-align: right;\">\n      <th></th>\n      <th>PassengerId</th>\n      <th>HomePlanet</th>\n      <th>CryoSleep</th>\n      <th>Cabin</th>\n      <th>Destination</th>\n      <th>Age</th>\n      <th>VIP</th>\n      <th>RoomService</th>\n      <th>FoodCourt</th>\n      <th>ShoppingMall</th>\n      <th>Spa</th>\n      <th>VRDeck</th>\n      <th>Name</th>\n    </tr>\n  </thead>\n  <tbody>\n    <tr>\n      <th>0</th>\n      <td>8026_01</td>\n      <td>Mars</td>\n      <td>True</td>\n      <td>F/1534/S</td>\n      <td>TRAPPIST-1e</td>\n      <td>29.0</td>\n      <td>False</td>\n      <td>0.0</td>\n      <td>0.0</td>\n      <td>0.0</td>\n      <td>0.0</td>\n      <td>0.0</td>\n      <td>Losp Ruité</td>\n    </tr>\n    <tr>\n      <th>1</th>\n      <td>6734_03</td>\n      <td>Europa</td>\n      <td>True</td>\n      <td>C/249/S</td>\n      <td>55 Cancri e</td>\n      <td>37.0</td>\n      <td>True</td>\n      <td>0.0</td>\n      <td>0.0</td>\n      <td>0.0</td>\n      <td>0.0</td>\n      <td>0.0</td>\n      <td>Alhaino Sparsaxle</td>\n    </tr>\n    <tr>\n      <th>2</th>\n      <td>8186_04</td>\n      <td>Earth</td>\n      <td>True</td>\n      <td>G/1319/S</td>\n      <td>PSO J318.5-22</td>\n      <td>23.0</td>\n      <td>False</td>\n      <td>0.0</td>\n      <td>0.0</td>\n      <td>0.0</td>\n      <td>0.0</td>\n      <td>0.0</td>\n      <td>Rayley Jenkinnedy</td>\n    </tr>\n    <tr>\n      <th>3</th>\n      <td>4942_02</td>\n      <td>Earth</td>\n      <td>True</td>\n      <td>G/806/S</td>\n      <td>TRAPPIST-1e</td>\n      <td>36.0</td>\n      <td>False</td>\n      <td>0.0</td>\n      <td>0.0</td>\n      <td>0.0</td>\n      <td>0.0</td>\n      <td>0.0</td>\n      <td>Coreee Reenon</td>\n    </tr>\n    <tr>\n      <th>4</th>\n      <td>8640_01</td>\n      <td>Earth</td>\n      <td>False</td>\n      <td>F/1666/S</td>\n      <td>NaN</td>\n      <td>50.0</td>\n      <td>False</td>\n      <td>133.0</td>\n      <td>0.0</td>\n      <td>525.0</td>\n      <td>0.0</td>\n      <td>31.0</td>\n      <td>Diandy Hurchrisong</td>\n    </tr>\n  </tbody>\n</table>\n</div>"
     },
     "metadata": {},
     "output_type": "display_data"
    },
    {
     "data": {
      "text/plain": "  PassengerId HomePlanet CryoSleep     Cabin    Destination   Age    VIP  \\\n0     6234_01       Mars     False  F/1287/P  PSO J318.5-22  40.0   True   \n1     8826_01     Europa     False   C/290/P    55 Cancri e  13.0  False   \n2     4453_01     Europa     False   D/149/P    TRAPPIST-1e  28.0  False   \n3     0602_03       Mars      True   F/125/P    TRAPPIST-1e  21.0  False   \n4     8796_01      Earth     False  G/1418/S    TRAPPIST-1e   6.0  False   \n\n   RoomService  FoodCourt  ShoppingMall     Spa  VRDeck             Name  \\\n0        301.0        0.0        1310.0     4.0     NaN        Sters Bun   \n1       1212.0     4485.0           0.0  4016.0    57.0   Marin Hednigic   \n2          0.0     2560.0           0.0   134.0   307.0   Azhasim Inguel   \n3          0.0        0.0           0.0     0.0     0.0       Rana Brine   \n4          0.0        0.0           0.0     0.0     0.0  Daisya Traverdy   \n\n   Transported  \n0         True  \n1        False  \n2        False  \n3         True  \n4         True  ",
      "text/html": "<div>\n<style scoped>\n    .dataframe tbody tr th:only-of-type {\n        vertical-align: middle;\n    }\n\n    .dataframe tbody tr th {\n        vertical-align: top;\n    }\n\n    .dataframe thead th {\n        text-align: right;\n    }\n</style>\n<table border=\"1\" class=\"dataframe\">\n  <thead>\n    <tr style=\"text-align: right;\">\n      <th></th>\n      <th>PassengerId</th>\n      <th>HomePlanet</th>\n      <th>CryoSleep</th>\n      <th>Cabin</th>\n      <th>Destination</th>\n      <th>Age</th>\n      <th>VIP</th>\n      <th>RoomService</th>\n      <th>FoodCourt</th>\n      <th>ShoppingMall</th>\n      <th>Spa</th>\n      <th>VRDeck</th>\n      <th>Name</th>\n      <th>Transported</th>\n    </tr>\n  </thead>\n  <tbody>\n    <tr>\n      <th>0</th>\n      <td>6234_01</td>\n      <td>Mars</td>\n      <td>False</td>\n      <td>F/1287/P</td>\n      <td>PSO J318.5-22</td>\n      <td>40.0</td>\n      <td>True</td>\n      <td>301.0</td>\n      <td>0.0</td>\n      <td>1310.0</td>\n      <td>4.0</td>\n      <td>NaN</td>\n      <td>Sters Bun</td>\n      <td>True</td>\n    </tr>\n    <tr>\n      <th>1</th>\n      <td>8826_01</td>\n      <td>Europa</td>\n      <td>False</td>\n      <td>C/290/P</td>\n      <td>55 Cancri e</td>\n      <td>13.0</td>\n      <td>False</td>\n      <td>1212.0</td>\n      <td>4485.0</td>\n      <td>0.0</td>\n      <td>4016.0</td>\n      <td>57.0</td>\n      <td>Marin Hednigic</td>\n      <td>False</td>\n    </tr>\n    <tr>\n      <th>2</th>\n      <td>4453_01</td>\n      <td>Europa</td>\n      <td>False</td>\n      <td>D/149/P</td>\n      <td>TRAPPIST-1e</td>\n      <td>28.0</td>\n      <td>False</td>\n      <td>0.0</td>\n      <td>2560.0</td>\n      <td>0.0</td>\n      <td>134.0</td>\n      <td>307.0</td>\n      <td>Azhasim Inguel</td>\n      <td>False</td>\n    </tr>\n    <tr>\n      <th>3</th>\n      <td>0602_03</td>\n      <td>Mars</td>\n      <td>True</td>\n      <td>F/125/P</td>\n      <td>TRAPPIST-1e</td>\n      <td>21.0</td>\n      <td>False</td>\n      <td>0.0</td>\n      <td>0.0</td>\n      <td>0.0</td>\n      <td>0.0</td>\n      <td>0.0</td>\n      <td>Rana Brine</td>\n      <td>True</td>\n    </tr>\n    <tr>\n      <th>4</th>\n      <td>8796_01</td>\n      <td>Earth</td>\n      <td>False</td>\n      <td>G/1418/S</td>\n      <td>TRAPPIST-1e</td>\n      <td>6.0</td>\n      <td>False</td>\n      <td>0.0</td>\n      <td>0.0</td>\n      <td>0.0</td>\n      <td>0.0</td>\n      <td>0.0</td>\n      <td>Daisya Traverdy</td>\n      <td>True</td>\n    </tr>\n  </tbody>\n</table>\n</div>"
     },
     "metadata": {},
     "output_type": "display_data"
    }
   ]
  },
  {
   "cell_type": "code",
   "execution_count": 94,
   "outputs": [
    {
     "name": "stdout",
     "output_type": "stream",
     "text": [
      "<class 'pandas.core.frame.DataFrame'>\n",
      "RangeIndex: 1739 entries, 0 to 1738\n",
      "Data columns (total 13 columns):\n",
      " #   Column        Non-Null Count  Dtype  \n",
      "---  ------        --------------  -----  \n",
      " 0   PassengerId   1739 non-null   object \n",
      " 1   HomePlanet    1701 non-null   object \n",
      " 2   CryoSleep     1692 non-null   object \n",
      " 3   Cabin         1696 non-null   object \n",
      " 4   Destination   1698 non-null   object \n",
      " 5   Age           1703 non-null   float64\n",
      " 6   VIP           1692 non-null   object \n",
      " 7   RoomService   1700 non-null   float64\n",
      " 8   FoodCourt     1700 non-null   float64\n",
      " 9   ShoppingMall  1693 non-null   float64\n",
      " 10  Spa           1701 non-null   float64\n",
      " 11  VRDeck        1698 non-null   float64\n",
      " 12  Name          1699 non-null   object \n",
      "dtypes: float64(6), object(7)\n",
      "memory usage: 176.7+ KB\n"
     ]
    },
    {
     "data": {
      "text/plain": "None"
     },
     "metadata": {},
     "output_type": "display_data"
    },
    {
     "name": "stdout",
     "output_type": "stream",
     "text": [
      "<class 'pandas.core.frame.DataFrame'>\n",
      "RangeIndex: 6954 entries, 0 to 6953\n",
      "Data columns (total 14 columns):\n",
      " #   Column        Non-Null Count  Dtype  \n",
      "---  ------        --------------  -----  \n",
      " 0   PassengerId   6954 non-null   object \n",
      " 1   HomePlanet    6791 non-null   object \n",
      " 2   CryoSleep     6784 non-null   object \n",
      " 3   Cabin         6798 non-null   object \n",
      " 4   Destination   6813 non-null   object \n",
      " 5   Age           6811 non-null   float64\n",
      " 6   VIP           6798 non-null   object \n",
      " 7   RoomService   6812 non-null   float64\n",
      " 8   FoodCourt     6810 non-null   float64\n",
      " 9   ShoppingMall  6792 non-null   float64\n",
      " 10  Spa           6809 non-null   float64\n",
      " 11  VRDeck        6807 non-null   float64\n",
      " 12  Name          6794 non-null   object \n",
      " 13  Transported   6954 non-null   bool   \n",
      "dtypes: bool(1), float64(6), object(7)\n",
      "memory usage: 713.2+ KB\n"
     ]
    },
    {
     "data": {
      "text/plain": "None"
     },
     "metadata": {},
     "output_type": "display_data"
    },
    {
     "data": {
      "text/plain": "               Age  RoomService     FoodCourt  ShoppingMall           Spa  \\\ncount  6811.000000  6812.000000   6810.000000   6792.000000   6809.000000   \nmean     28.758773   219.851879    458.781791    173.162691    302.198120   \nstd      14.370668   649.921373   1601.377860    598.108352   1120.863112   \nmin       0.000000     0.000000      0.000000      0.000000      0.000000   \n25%      19.000000     0.000000      0.000000      0.000000      0.000000   \n50%      27.000000     0.000000      0.000000      0.000000      0.000000   \n75%      38.000000    42.000000     70.750000     24.000000     56.000000   \nmax      79.000000  9920.000000  29813.000000  23492.000000  22408.000000   \n\n             VRDeck  \ncount   6807.000000  \nmean     305.534156  \nstd     1148.581726  \nmin        0.000000  \n25%        0.000000  \n50%        0.000000  \n75%       45.000000  \nmax    24133.000000  ",
      "text/html": "<div>\n<style scoped>\n    .dataframe tbody tr th:only-of-type {\n        vertical-align: middle;\n    }\n\n    .dataframe tbody tr th {\n        vertical-align: top;\n    }\n\n    .dataframe thead th {\n        text-align: right;\n    }\n</style>\n<table border=\"1\" class=\"dataframe\">\n  <thead>\n    <tr style=\"text-align: right;\">\n      <th></th>\n      <th>Age</th>\n      <th>RoomService</th>\n      <th>FoodCourt</th>\n      <th>ShoppingMall</th>\n      <th>Spa</th>\n      <th>VRDeck</th>\n    </tr>\n  </thead>\n  <tbody>\n    <tr>\n      <th>count</th>\n      <td>6811.000000</td>\n      <td>6812.000000</td>\n      <td>6810.000000</td>\n      <td>6792.000000</td>\n      <td>6809.000000</td>\n      <td>6807.000000</td>\n    </tr>\n    <tr>\n      <th>mean</th>\n      <td>28.758773</td>\n      <td>219.851879</td>\n      <td>458.781791</td>\n      <td>173.162691</td>\n      <td>302.198120</td>\n      <td>305.534156</td>\n    </tr>\n    <tr>\n      <th>std</th>\n      <td>14.370668</td>\n      <td>649.921373</td>\n      <td>1601.377860</td>\n      <td>598.108352</td>\n      <td>1120.863112</td>\n      <td>1148.581726</td>\n    </tr>\n    <tr>\n      <th>min</th>\n      <td>0.000000</td>\n      <td>0.000000</td>\n      <td>0.000000</td>\n      <td>0.000000</td>\n      <td>0.000000</td>\n      <td>0.000000</td>\n    </tr>\n    <tr>\n      <th>25%</th>\n      <td>19.000000</td>\n      <td>0.000000</td>\n      <td>0.000000</td>\n      <td>0.000000</td>\n      <td>0.000000</td>\n      <td>0.000000</td>\n    </tr>\n    <tr>\n      <th>50%</th>\n      <td>27.000000</td>\n      <td>0.000000</td>\n      <td>0.000000</td>\n      <td>0.000000</td>\n      <td>0.000000</td>\n      <td>0.000000</td>\n    </tr>\n    <tr>\n      <th>75%</th>\n      <td>38.000000</td>\n      <td>42.000000</td>\n      <td>70.750000</td>\n      <td>24.000000</td>\n      <td>56.000000</td>\n      <td>45.000000</td>\n    </tr>\n    <tr>\n      <th>max</th>\n      <td>79.000000</td>\n      <td>9920.000000</td>\n      <td>29813.000000</td>\n      <td>23492.000000</td>\n      <td>22408.000000</td>\n      <td>24133.000000</td>\n    </tr>\n  </tbody>\n</table>\n</div>"
     },
     "metadata": {},
     "output_type": "display_data"
    }
   ],
   "source": [
    "display(test_csv.info())\n",
    "display(train_csv.info())\n",
    "display(train_csv.describe())"
   ],
   "metadata": {
    "collapsed": false
   }
  },
  {
   "cell_type": "code",
   "execution_count": 95,
   "outputs": [],
   "source": [
    "# Создадим функцию для разделения колонок, содержащие сложные значения, на несколько колонок с простыми значениями\n",
    "def split_complex_columns(df):\n",
    "    modified_df = df\n",
    "\n",
    "    modified_df = modified_df.join(modified_df['Cabin'].str.split('/', expand=True))\n",
    "    modified_df = modified_df.drop(columns = ['Cabin'], axis = 1)\n",
    "    modified_df = modified_df.rename(columns={0:'Deck', 1:'Num', 2:'Side'})\n",
    "\n",
    "    modified_df = modified_df.join(modified_df['PassengerId'].str.split('_', expand=True))\n",
    "    modified_df = modified_df.drop(columns = ['PassengerId'], axis = 1)\n",
    "    modified_df = modified_df.rename(columns={0:'Group', 1:'GroupNumber'})\n",
    "    modified_df = modified_df.drop(columns = ['GroupNumber'], axis = 1)\n",
    "\n",
    "    modified_df = modified_df.join(modified_df['Name'].str.split(' ', expand=True))\n",
    "    modified_df = modified_df.drop(columns = ['Name'], axis = 1)\n",
    "    modified_df = modified_df.rename(columns={0:'Name', 1:'Surname'})\n",
    "    modified_df = modified_df.drop(columns = ['Name'], axis = 1)\n",
    "\n",
    "    return modified_df"
   ],
   "metadata": {
    "collapsed": false
   }
  },
  {
   "cell_type": "code",
   "execution_count": 96,
   "outputs": [
    {
     "data": {
      "text/plain": "     HomePlanet CryoSleep    Destination   Age    VIP  RoomService  FoodCourt  \\\n0          Mars     False  PSO J318.5-22  40.0   True        301.0        0.0   \n1        Europa     False    55 Cancri e  13.0  False       1212.0     4485.0   \n2        Europa     False    TRAPPIST-1e  28.0  False          0.0     2560.0   \n3          Mars      True    TRAPPIST-1e  21.0  False          0.0        0.0   \n4         Earth     False    TRAPPIST-1e   6.0  False          0.0        0.0   \n...         ...       ...            ...   ...    ...          ...        ...   \n6949       Mars     False    TRAPPIST-1e  24.0  False       2997.0        0.0   \n6950     Europa      True    TRAPPIST-1e  23.0  False          0.0        0.0   \n6951     Europa     False    55 Cancri e  19.0  False          0.0     1291.0   \n6952     Europa     False    TRAPPIST-1e  32.0  False          0.0       89.0   \n6953     Europa      True    55 Cancri e  31.0  False          0.0        0.0   \n\n      ShoppingMall      Spa  VRDeck  Transported Deck   Num Side Group  \\\n0           1310.0      4.0     NaN         True    F  1287    P  6234   \n1              0.0   4016.0    57.0        False    C   290    P  8826   \n2              0.0    134.0   307.0        False    D   149    P  4453   \n3              0.0      0.0     0.0         True    F   125    P  0602   \n4              0.0      0.0     0.0         True    G  1418    S  8796   \n...            ...      ...     ...          ...  ...   ...  ...   ...   \n6949           3.0      0.0     7.0         True    E    70    P  1182   \n6950           0.0      0.0     0.0         True    B   106    P  3396   \n6951           0.0  16139.0   687.0        False    B    48    S  1161   \n6952           0.0   8330.0     1.0        False    C   255    S  6921   \n6953           0.0      0.0     0.0         True    C   315    S  8401   \n\n         Surname  \n0            Bun  \n1       Hednigic  \n2         Inguel  \n3          Brine  \n4       Traverdy  \n...          ...  \n6949        Pota  \n6950   Mirinanty  \n6951   Anderking  \n6952  Stersetery  \n6953      Susent  \n\n[6954 rows x 16 columns]",
      "text/html": "<div>\n<style scoped>\n    .dataframe tbody tr th:only-of-type {\n        vertical-align: middle;\n    }\n\n    .dataframe tbody tr th {\n        vertical-align: top;\n    }\n\n    .dataframe thead th {\n        text-align: right;\n    }\n</style>\n<table border=\"1\" class=\"dataframe\">\n  <thead>\n    <tr style=\"text-align: right;\">\n      <th></th>\n      <th>HomePlanet</th>\n      <th>CryoSleep</th>\n      <th>Destination</th>\n      <th>Age</th>\n      <th>VIP</th>\n      <th>RoomService</th>\n      <th>FoodCourt</th>\n      <th>ShoppingMall</th>\n      <th>Spa</th>\n      <th>VRDeck</th>\n      <th>Transported</th>\n      <th>Deck</th>\n      <th>Num</th>\n      <th>Side</th>\n      <th>Group</th>\n      <th>Surname</th>\n    </tr>\n  </thead>\n  <tbody>\n    <tr>\n      <th>0</th>\n      <td>Mars</td>\n      <td>False</td>\n      <td>PSO J318.5-22</td>\n      <td>40.0</td>\n      <td>True</td>\n      <td>301.0</td>\n      <td>0.0</td>\n      <td>1310.0</td>\n      <td>4.0</td>\n      <td>NaN</td>\n      <td>True</td>\n      <td>F</td>\n      <td>1287</td>\n      <td>P</td>\n      <td>6234</td>\n      <td>Bun</td>\n    </tr>\n    <tr>\n      <th>1</th>\n      <td>Europa</td>\n      <td>False</td>\n      <td>55 Cancri e</td>\n      <td>13.0</td>\n      <td>False</td>\n      <td>1212.0</td>\n      <td>4485.0</td>\n      <td>0.0</td>\n      <td>4016.0</td>\n      <td>57.0</td>\n      <td>False</td>\n      <td>C</td>\n      <td>290</td>\n      <td>P</td>\n      <td>8826</td>\n      <td>Hednigic</td>\n    </tr>\n    <tr>\n      <th>2</th>\n      <td>Europa</td>\n      <td>False</td>\n      <td>TRAPPIST-1e</td>\n      <td>28.0</td>\n      <td>False</td>\n      <td>0.0</td>\n      <td>2560.0</td>\n      <td>0.0</td>\n      <td>134.0</td>\n      <td>307.0</td>\n      <td>False</td>\n      <td>D</td>\n      <td>149</td>\n      <td>P</td>\n      <td>4453</td>\n      <td>Inguel</td>\n    </tr>\n    <tr>\n      <th>3</th>\n      <td>Mars</td>\n      <td>True</td>\n      <td>TRAPPIST-1e</td>\n      <td>21.0</td>\n      <td>False</td>\n      <td>0.0</td>\n      <td>0.0</td>\n      <td>0.0</td>\n      <td>0.0</td>\n      <td>0.0</td>\n      <td>True</td>\n      <td>F</td>\n      <td>125</td>\n      <td>P</td>\n      <td>0602</td>\n      <td>Brine</td>\n    </tr>\n    <tr>\n      <th>4</th>\n      <td>Earth</td>\n      <td>False</td>\n      <td>TRAPPIST-1e</td>\n      <td>6.0</td>\n      <td>False</td>\n      <td>0.0</td>\n      <td>0.0</td>\n      <td>0.0</td>\n      <td>0.0</td>\n      <td>0.0</td>\n      <td>True</td>\n      <td>G</td>\n      <td>1418</td>\n      <td>S</td>\n      <td>8796</td>\n      <td>Traverdy</td>\n    </tr>\n    <tr>\n      <th>...</th>\n      <td>...</td>\n      <td>...</td>\n      <td>...</td>\n      <td>...</td>\n      <td>...</td>\n      <td>...</td>\n      <td>...</td>\n      <td>...</td>\n      <td>...</td>\n      <td>...</td>\n      <td>...</td>\n      <td>...</td>\n      <td>...</td>\n      <td>...</td>\n      <td>...</td>\n      <td>...</td>\n    </tr>\n    <tr>\n      <th>6949</th>\n      <td>Mars</td>\n      <td>False</td>\n      <td>TRAPPIST-1e</td>\n      <td>24.0</td>\n      <td>False</td>\n      <td>2997.0</td>\n      <td>0.0</td>\n      <td>3.0</td>\n      <td>0.0</td>\n      <td>7.0</td>\n      <td>True</td>\n      <td>E</td>\n      <td>70</td>\n      <td>P</td>\n      <td>1182</td>\n      <td>Pota</td>\n    </tr>\n    <tr>\n      <th>6950</th>\n      <td>Europa</td>\n      <td>True</td>\n      <td>TRAPPIST-1e</td>\n      <td>23.0</td>\n      <td>False</td>\n      <td>0.0</td>\n      <td>0.0</td>\n      <td>0.0</td>\n      <td>0.0</td>\n      <td>0.0</td>\n      <td>True</td>\n      <td>B</td>\n      <td>106</td>\n      <td>P</td>\n      <td>3396</td>\n      <td>Mirinanty</td>\n    </tr>\n    <tr>\n      <th>6951</th>\n      <td>Europa</td>\n      <td>False</td>\n      <td>55 Cancri e</td>\n      <td>19.0</td>\n      <td>False</td>\n      <td>0.0</td>\n      <td>1291.0</td>\n      <td>0.0</td>\n      <td>16139.0</td>\n      <td>687.0</td>\n      <td>False</td>\n      <td>B</td>\n      <td>48</td>\n      <td>S</td>\n      <td>1161</td>\n      <td>Anderking</td>\n    </tr>\n    <tr>\n      <th>6952</th>\n      <td>Europa</td>\n      <td>False</td>\n      <td>TRAPPIST-1e</td>\n      <td>32.0</td>\n      <td>False</td>\n      <td>0.0</td>\n      <td>89.0</td>\n      <td>0.0</td>\n      <td>8330.0</td>\n      <td>1.0</td>\n      <td>False</td>\n      <td>C</td>\n      <td>255</td>\n      <td>S</td>\n      <td>6921</td>\n      <td>Stersetery</td>\n    </tr>\n    <tr>\n      <th>6953</th>\n      <td>Europa</td>\n      <td>True</td>\n      <td>55 Cancri e</td>\n      <td>31.0</td>\n      <td>False</td>\n      <td>0.0</td>\n      <td>0.0</td>\n      <td>0.0</td>\n      <td>0.0</td>\n      <td>0.0</td>\n      <td>True</td>\n      <td>C</td>\n      <td>315</td>\n      <td>S</td>\n      <td>8401</td>\n      <td>Susent</td>\n    </tr>\n  </tbody>\n</table>\n<p>6954 rows × 16 columns</p>\n</div>"
     },
     "metadata": {},
     "output_type": "display_data"
    },
    {
     "data": {
      "text/plain": "     HomePlanet CryoSleep    Destination   Age    VIP  RoomService  FoodCourt  \\\n0          Mars      True    TRAPPIST-1e  29.0  False          0.0        0.0   \n1        Europa      True    55 Cancri e  37.0   True          0.0        0.0   \n2         Earth      True  PSO J318.5-22  23.0  False          0.0        0.0   \n3         Earth      True    TRAPPIST-1e  36.0  False          0.0        0.0   \n4         Earth     False            NaN  50.0  False        133.0        0.0   \n...         ...       ...            ...   ...    ...          ...        ...   \n1734      Earth     False    TRAPPIST-1e  26.0  False          0.0      786.0   \n1735      Earth      True    TRAPPIST-1e  15.0  False          0.0        0.0   \n1736       Mars     False    TRAPPIST-1e  19.0  False          0.0        0.0   \n1737      Earth     False    TRAPPIST-1e  29.0  False        272.0      615.0   \n1738      Earth     False    TRAPPIST-1e  18.0  False        490.0        0.0   \n\n      ShoppingMall    Spa  VRDeck Deck   Num Side Group      Surname  \n0              0.0    0.0     0.0    F  1534    S  8026        Ruité  \n1              0.0    0.0     0.0    C   249    S  6734    Sparsaxle  \n2              0.0    0.0     0.0    G  1319    S  8186   Jenkinnedy  \n3              0.0    0.0     0.0    G   806    S  4942       Reenon  \n4            525.0    0.0    31.0    F  1666    S  8640  Hurchrisong  \n...            ...    ...     ...  ...   ...  ...   ...          ...  \n1734           0.0   11.0    83.0    F  1160    P  5589    Hermanapp  \n1735           0.0    0.0     0.0    G  1336    P  8229     Patthews  \n1736           0.0    0.0     0.0    E   134    P  2234        Flité  \n1737           0.0    0.0     1.0    G    42    P  0253      Cardner  \n1738          54.0  195.0     0.0    F  1746    P  8506       Benney  \n\n[1739 rows x 15 columns]",
      "text/html": "<div>\n<style scoped>\n    .dataframe tbody tr th:only-of-type {\n        vertical-align: middle;\n    }\n\n    .dataframe tbody tr th {\n        vertical-align: top;\n    }\n\n    .dataframe thead th {\n        text-align: right;\n    }\n</style>\n<table border=\"1\" class=\"dataframe\">\n  <thead>\n    <tr style=\"text-align: right;\">\n      <th></th>\n      <th>HomePlanet</th>\n      <th>CryoSleep</th>\n      <th>Destination</th>\n      <th>Age</th>\n      <th>VIP</th>\n      <th>RoomService</th>\n      <th>FoodCourt</th>\n      <th>ShoppingMall</th>\n      <th>Spa</th>\n      <th>VRDeck</th>\n      <th>Deck</th>\n      <th>Num</th>\n      <th>Side</th>\n      <th>Group</th>\n      <th>Surname</th>\n    </tr>\n  </thead>\n  <tbody>\n    <tr>\n      <th>0</th>\n      <td>Mars</td>\n      <td>True</td>\n      <td>TRAPPIST-1e</td>\n      <td>29.0</td>\n      <td>False</td>\n      <td>0.0</td>\n      <td>0.0</td>\n      <td>0.0</td>\n      <td>0.0</td>\n      <td>0.0</td>\n      <td>F</td>\n      <td>1534</td>\n      <td>S</td>\n      <td>8026</td>\n      <td>Ruité</td>\n    </tr>\n    <tr>\n      <th>1</th>\n      <td>Europa</td>\n      <td>True</td>\n      <td>55 Cancri e</td>\n      <td>37.0</td>\n      <td>True</td>\n      <td>0.0</td>\n      <td>0.0</td>\n      <td>0.0</td>\n      <td>0.0</td>\n      <td>0.0</td>\n      <td>C</td>\n      <td>249</td>\n      <td>S</td>\n      <td>6734</td>\n      <td>Sparsaxle</td>\n    </tr>\n    <tr>\n      <th>2</th>\n      <td>Earth</td>\n      <td>True</td>\n      <td>PSO J318.5-22</td>\n      <td>23.0</td>\n      <td>False</td>\n      <td>0.0</td>\n      <td>0.0</td>\n      <td>0.0</td>\n      <td>0.0</td>\n      <td>0.0</td>\n      <td>G</td>\n      <td>1319</td>\n      <td>S</td>\n      <td>8186</td>\n      <td>Jenkinnedy</td>\n    </tr>\n    <tr>\n      <th>3</th>\n      <td>Earth</td>\n      <td>True</td>\n      <td>TRAPPIST-1e</td>\n      <td>36.0</td>\n      <td>False</td>\n      <td>0.0</td>\n      <td>0.0</td>\n      <td>0.0</td>\n      <td>0.0</td>\n      <td>0.0</td>\n      <td>G</td>\n      <td>806</td>\n      <td>S</td>\n      <td>4942</td>\n      <td>Reenon</td>\n    </tr>\n    <tr>\n      <th>4</th>\n      <td>Earth</td>\n      <td>False</td>\n      <td>NaN</td>\n      <td>50.0</td>\n      <td>False</td>\n      <td>133.0</td>\n      <td>0.0</td>\n      <td>525.0</td>\n      <td>0.0</td>\n      <td>31.0</td>\n      <td>F</td>\n      <td>1666</td>\n      <td>S</td>\n      <td>8640</td>\n      <td>Hurchrisong</td>\n    </tr>\n    <tr>\n      <th>...</th>\n      <td>...</td>\n      <td>...</td>\n      <td>...</td>\n      <td>...</td>\n      <td>...</td>\n      <td>...</td>\n      <td>...</td>\n      <td>...</td>\n      <td>...</td>\n      <td>...</td>\n      <td>...</td>\n      <td>...</td>\n      <td>...</td>\n      <td>...</td>\n      <td>...</td>\n    </tr>\n    <tr>\n      <th>1734</th>\n      <td>Earth</td>\n      <td>False</td>\n      <td>TRAPPIST-1e</td>\n      <td>26.0</td>\n      <td>False</td>\n      <td>0.0</td>\n      <td>786.0</td>\n      <td>0.0</td>\n      <td>11.0</td>\n      <td>83.0</td>\n      <td>F</td>\n      <td>1160</td>\n      <td>P</td>\n      <td>5589</td>\n      <td>Hermanapp</td>\n    </tr>\n    <tr>\n      <th>1735</th>\n      <td>Earth</td>\n      <td>True</td>\n      <td>TRAPPIST-1e</td>\n      <td>15.0</td>\n      <td>False</td>\n      <td>0.0</td>\n      <td>0.0</td>\n      <td>0.0</td>\n      <td>0.0</td>\n      <td>0.0</td>\n      <td>G</td>\n      <td>1336</td>\n      <td>P</td>\n      <td>8229</td>\n      <td>Patthews</td>\n    </tr>\n    <tr>\n      <th>1736</th>\n      <td>Mars</td>\n      <td>False</td>\n      <td>TRAPPIST-1e</td>\n      <td>19.0</td>\n      <td>False</td>\n      <td>0.0</td>\n      <td>0.0</td>\n      <td>0.0</td>\n      <td>0.0</td>\n      <td>0.0</td>\n      <td>E</td>\n      <td>134</td>\n      <td>P</td>\n      <td>2234</td>\n      <td>Flité</td>\n    </tr>\n    <tr>\n      <th>1737</th>\n      <td>Earth</td>\n      <td>False</td>\n      <td>TRAPPIST-1e</td>\n      <td>29.0</td>\n      <td>False</td>\n      <td>272.0</td>\n      <td>615.0</td>\n      <td>0.0</td>\n      <td>0.0</td>\n      <td>1.0</td>\n      <td>G</td>\n      <td>42</td>\n      <td>P</td>\n      <td>0253</td>\n      <td>Cardner</td>\n    </tr>\n    <tr>\n      <th>1738</th>\n      <td>Earth</td>\n      <td>False</td>\n      <td>TRAPPIST-1e</td>\n      <td>18.0</td>\n      <td>False</td>\n      <td>490.0</td>\n      <td>0.0</td>\n      <td>54.0</td>\n      <td>195.0</td>\n      <td>0.0</td>\n      <td>F</td>\n      <td>1746</td>\n      <td>P</td>\n      <td>8506</td>\n      <td>Benney</td>\n    </tr>\n  </tbody>\n</table>\n<p>1739 rows × 15 columns</p>\n</div>"
     },
     "metadata": {},
     "output_type": "display_data"
    }
   ],
   "source": [
    "# Применим функцию к train и test выборкам\n",
    "train_splitted_columns = split_complex_columns(train_csv)\n",
    "test_splitted_columns = split_complex_columns(test_csv)\n",
    "\n",
    "display(train_splitted_columns)\n",
    "display(test_splitted_columns)"
   ],
   "metadata": {
    "collapsed": false
   }
  },
  {
   "cell_type": "code",
   "execution_count": 97,
   "outputs": [
    {
     "data": {
      "text/plain": "HomePlanet      163\nCryoSleep       170\nDestination     141\nAge             143\nVIP             156\nRoomService     142\nFoodCourt       144\nShoppingMall    162\nSpa             145\nVRDeck          147\nTransported       0\nDeck            156\nNum             156\nSide            156\nGroup             0\nSurname         160\ndtype: int64"
     },
     "execution_count": 97,
     "metadata": {},
     "output_type": "execute_result"
    }
   ],
   "source": [
    "# Посмотрим на количество пропусков в колонках train выборки\n",
    "train_splitted_columns.isna().sum()"
   ],
   "metadata": {
    "collapsed": false
   }
  },
  {
   "cell_type": "code",
   "execution_count": 98,
   "outputs": [
    {
     "data": {
      "text/plain": "array([False, nan], dtype=object)"
     },
     "execution_count": 98,
     "metadata": {},
     "output_type": "execute_result"
    }
   ],
   "source": [
    "# Выявили закономерность, что пассажиры с VIP обслуживанием, скорее всего, не располагались на палубе G\n",
    "train_splitted_columns[train_splitted_columns['Deck'] == 'G']['VIP'].unique()"
   ],
   "metadata": {
    "collapsed": false
   }
  },
  {
   "cell_type": "code",
   "execution_count": 99,
   "outputs": [
    {
     "data": {
      "text/plain": "array([False], dtype=object)"
     },
     "execution_count": 99,
     "metadata": {},
     "output_type": "execute_result"
    }
   ],
   "source": [
    "# Заполняем все пропуски в стобце VIP для палубы G значением False\n",
    "train_splitted_columns.loc[(train_splitted_columns['Deck'] == 'G') & train_splitted_columns['VIP'].isna(), 'VIP'] = False\n",
    "train_splitted_columns[train_splitted_columns['Deck'] == 'G']['VIP'].unique()"
   ],
   "metadata": {
    "collapsed": false
   }
  },
  {
   "cell_type": "code",
   "execution_count": 100,
   "outputs": [
    {
     "data": {
      "text/plain": "Empty DataFrame\nColumns: [HomePlanet, CryoSleep, Destination, Age, VIP, RoomService, FoodCourt, ShoppingMall, Spa, VRDeck, Transported, Deck, Num, Side, Group, Surname]\nIndex: []",
      "text/html": "<div>\n<style scoped>\n    .dataframe tbody tr th:only-of-type {\n        vertical-align: middle;\n    }\n\n    .dataframe tbody tr th {\n        vertical-align: top;\n    }\n\n    .dataframe thead th {\n        text-align: right;\n    }\n</style>\n<table border=\"1\" class=\"dataframe\">\n  <thead>\n    <tr style=\"text-align: right;\">\n      <th></th>\n      <th>HomePlanet</th>\n      <th>CryoSleep</th>\n      <th>Destination</th>\n      <th>Age</th>\n      <th>VIP</th>\n      <th>RoomService</th>\n      <th>FoodCourt</th>\n      <th>ShoppingMall</th>\n      <th>Spa</th>\n      <th>VRDeck</th>\n      <th>Transported</th>\n      <th>Deck</th>\n      <th>Num</th>\n      <th>Side</th>\n      <th>Group</th>\n      <th>Surname</th>\n    </tr>\n  </thead>\n  <tbody>\n  </tbody>\n</table>\n</div>"
     },
     "execution_count": 100,
     "metadata": {},
     "output_type": "execute_result"
    }
   ],
   "source": [
    "# Выявили закономерность, что у пассажиров состоящих в одной и той же группе совпадает место отправки\n",
    "train_groupped_by_group = train_splitted_columns.groupby('Group')\n",
    "train_groupped_by_group.filter(lambda x: x['HomePlanet'].nunique() > 1)"
   ],
   "metadata": {
    "collapsed": false
   }
  },
  {
   "cell_type": "code",
   "execution_count": 101,
   "outputs": [
    {
     "data": {
      "text/plain": "     HomePlanet CryoSleep  Destination   Age    VIP  RoomService  FoodCourt  \\\n1        Europa     False  55 Cancri e  13.0  False       1212.0     4485.0   \n4         Earth     False  TRAPPIST-1e   6.0  False          0.0        0.0   \n6         Earth     False  55 Cancri e  27.0  False          3.0       13.0   \n11          NaN     False  TRAPPIST-1e  41.0  False          6.0        1.0   \n12        Earth     False  TRAPPIST-1e   3.0  False          0.0        0.0   \n...         ...       ...          ...   ...    ...          ...        ...   \n6936     Europa     False  55 Cancri e  25.0  False        484.0    11441.0   \n6946     Europa     False  TRAPPIST-1e  43.0  False          2.0     5329.0   \n6947     Europa      True  TRAPPIST-1e  19.0  False          0.0        0.0   \n6949       Mars     False  TRAPPIST-1e  24.0  False       2997.0        0.0   \n6952     Europa     False  TRAPPIST-1e  32.0  False          0.0       89.0   \n\n      ShoppingMall     Spa  VRDeck  Transported Deck   Num Side Group  \\\n1              0.0  4016.0    57.0        False    C   290    P  8826   \n4              0.0     0.0     0.0         True    G  1418    S  8796   \n6              0.0     0.0   788.0        False    F  1683    P  8129   \n11            11.0  1046.0     0.0        False    F   736    S  3911   \n12             0.0     0.0     0.0         True    G   857    P  5303   \n...            ...     ...     ...          ...  ...   ...  ...   ...   \n6936           0.0     4.0  5477.0        False    C   195    P  6340   \n6946           0.0     7.0     0.0         True    B   245    S  6285   \n6947           0.0     0.0     0.0         True    C   225    P  6971   \n6949           3.0     0.0     7.0         True    E    70    P  1182   \n6952           0.0  8330.0     1.0        False    C   255    S  6921   \n\n          Surname  \n1        Hednigic  \n4        Traverdy  \n6       Casonston  \n11    Petermandez  \n12     Lambleyoun  \n...           ...  \n6936     Pressive  \n6946     Whealeed  \n6947     Distured  \n6949         Pota  \n6952   Stersetery  \n\n[1562 rows x 16 columns]",
      "text/html": "<div>\n<style scoped>\n    .dataframe tbody tr th:only-of-type {\n        vertical-align: middle;\n    }\n\n    .dataframe tbody tr th {\n        vertical-align: top;\n    }\n\n    .dataframe thead th {\n        text-align: right;\n    }\n</style>\n<table border=\"1\" class=\"dataframe\">\n  <thead>\n    <tr style=\"text-align: right;\">\n      <th></th>\n      <th>HomePlanet</th>\n      <th>CryoSleep</th>\n      <th>Destination</th>\n      <th>Age</th>\n      <th>VIP</th>\n      <th>RoomService</th>\n      <th>FoodCourt</th>\n      <th>ShoppingMall</th>\n      <th>Spa</th>\n      <th>VRDeck</th>\n      <th>Transported</th>\n      <th>Deck</th>\n      <th>Num</th>\n      <th>Side</th>\n      <th>Group</th>\n      <th>Surname</th>\n    </tr>\n  </thead>\n  <tbody>\n    <tr>\n      <th>1</th>\n      <td>Europa</td>\n      <td>False</td>\n      <td>55 Cancri e</td>\n      <td>13.0</td>\n      <td>False</td>\n      <td>1212.0</td>\n      <td>4485.0</td>\n      <td>0.0</td>\n      <td>4016.0</td>\n      <td>57.0</td>\n      <td>False</td>\n      <td>C</td>\n      <td>290</td>\n      <td>P</td>\n      <td>8826</td>\n      <td>Hednigic</td>\n    </tr>\n    <tr>\n      <th>4</th>\n      <td>Earth</td>\n      <td>False</td>\n      <td>TRAPPIST-1e</td>\n      <td>6.0</td>\n      <td>False</td>\n      <td>0.0</td>\n      <td>0.0</td>\n      <td>0.0</td>\n      <td>0.0</td>\n      <td>0.0</td>\n      <td>True</td>\n      <td>G</td>\n      <td>1418</td>\n      <td>S</td>\n      <td>8796</td>\n      <td>Traverdy</td>\n    </tr>\n    <tr>\n      <th>6</th>\n      <td>Earth</td>\n      <td>False</td>\n      <td>55 Cancri e</td>\n      <td>27.0</td>\n      <td>False</td>\n      <td>3.0</td>\n      <td>13.0</td>\n      <td>0.0</td>\n      <td>0.0</td>\n      <td>788.0</td>\n      <td>False</td>\n      <td>F</td>\n      <td>1683</td>\n      <td>P</td>\n      <td>8129</td>\n      <td>Casonston</td>\n    </tr>\n    <tr>\n      <th>11</th>\n      <td>NaN</td>\n      <td>False</td>\n      <td>TRAPPIST-1e</td>\n      <td>41.0</td>\n      <td>False</td>\n      <td>6.0</td>\n      <td>1.0</td>\n      <td>11.0</td>\n      <td>1046.0</td>\n      <td>0.0</td>\n      <td>False</td>\n      <td>F</td>\n      <td>736</td>\n      <td>S</td>\n      <td>3911</td>\n      <td>Petermandez</td>\n    </tr>\n    <tr>\n      <th>12</th>\n      <td>Earth</td>\n      <td>False</td>\n      <td>TRAPPIST-1e</td>\n      <td>3.0</td>\n      <td>False</td>\n      <td>0.0</td>\n      <td>0.0</td>\n      <td>0.0</td>\n      <td>0.0</td>\n      <td>0.0</td>\n      <td>True</td>\n      <td>G</td>\n      <td>857</td>\n      <td>P</td>\n      <td>5303</td>\n      <td>Lambleyoun</td>\n    </tr>\n    <tr>\n      <th>...</th>\n      <td>...</td>\n      <td>...</td>\n      <td>...</td>\n      <td>...</td>\n      <td>...</td>\n      <td>...</td>\n      <td>...</td>\n      <td>...</td>\n      <td>...</td>\n      <td>...</td>\n      <td>...</td>\n      <td>...</td>\n      <td>...</td>\n      <td>...</td>\n      <td>...</td>\n      <td>...</td>\n    </tr>\n    <tr>\n      <th>6936</th>\n      <td>Europa</td>\n      <td>False</td>\n      <td>55 Cancri e</td>\n      <td>25.0</td>\n      <td>False</td>\n      <td>484.0</td>\n      <td>11441.0</td>\n      <td>0.0</td>\n      <td>4.0</td>\n      <td>5477.0</td>\n      <td>False</td>\n      <td>C</td>\n      <td>195</td>\n      <td>P</td>\n      <td>6340</td>\n      <td>Pressive</td>\n    </tr>\n    <tr>\n      <th>6946</th>\n      <td>Europa</td>\n      <td>False</td>\n      <td>TRAPPIST-1e</td>\n      <td>43.0</td>\n      <td>False</td>\n      <td>2.0</td>\n      <td>5329.0</td>\n      <td>0.0</td>\n      <td>7.0</td>\n      <td>0.0</td>\n      <td>True</td>\n      <td>B</td>\n      <td>245</td>\n      <td>S</td>\n      <td>6285</td>\n      <td>Whealeed</td>\n    </tr>\n    <tr>\n      <th>6947</th>\n      <td>Europa</td>\n      <td>True</td>\n      <td>TRAPPIST-1e</td>\n      <td>19.0</td>\n      <td>False</td>\n      <td>0.0</td>\n      <td>0.0</td>\n      <td>0.0</td>\n      <td>0.0</td>\n      <td>0.0</td>\n      <td>True</td>\n      <td>C</td>\n      <td>225</td>\n      <td>P</td>\n      <td>6971</td>\n      <td>Distured</td>\n    </tr>\n    <tr>\n      <th>6949</th>\n      <td>Mars</td>\n      <td>False</td>\n      <td>TRAPPIST-1e</td>\n      <td>24.0</td>\n      <td>False</td>\n      <td>2997.0</td>\n      <td>0.0</td>\n      <td>3.0</td>\n      <td>0.0</td>\n      <td>7.0</td>\n      <td>True</td>\n      <td>E</td>\n      <td>70</td>\n      <td>P</td>\n      <td>1182</td>\n      <td>Pota</td>\n    </tr>\n    <tr>\n      <th>6952</th>\n      <td>Europa</td>\n      <td>False</td>\n      <td>TRAPPIST-1e</td>\n      <td>32.0</td>\n      <td>False</td>\n      <td>0.0</td>\n      <td>89.0</td>\n      <td>0.0</td>\n      <td>8330.0</td>\n      <td>1.0</td>\n      <td>False</td>\n      <td>C</td>\n      <td>255</td>\n      <td>S</td>\n      <td>6921</td>\n      <td>Stersetery</td>\n    </tr>\n  </tbody>\n</table>\n<p>1562 rows × 16 columns</p>\n</div>"
     },
     "execution_count": 101,
     "metadata": {},
     "output_type": "execute_result"
    }
   ],
   "source": [
    "# Места назначения для одной и той же группы могут быть разные\n",
    "train_groupped_by_group.filter(lambda x: x['Destination'].nunique() > 1)"
   ],
   "metadata": {
    "collapsed": false
   }
  },
  {
   "cell_type": "code",
   "execution_count": 102,
   "outputs": [],
   "source": [
    "# Пассажиры, с одной и той же фамилией, путешествующие в одной группе скорее всего являются членами семьи.\n",
    "# Исходя из этого можно заполнить пропуски в соотвествующих колонках для семей\n",
    "def fillna_in_group(x):\n",
    "    index = x.first_valid_index()\n",
    "    if (index is None):\n",
    "        return x\n",
    "    else:\n",
    "        value = x[index]\n",
    "        return x.fillna(value)\n",
    "\n",
    "# Группировка по фамилии и группе\n",
    "train_groupped_by_surname_and_group = train_splitted_columns.groupby(['Surname', 'Group'])\n",
    "train_splitted_columns['HomePlanet'].update(train_groupped_by_surname_and_group['HomePlanet'].apply(lambda x: fillna_in_group(x)))\n",
    "train_splitted_columns['Destination'].update(train_groupped_by_surname_and_group['Destination'].apply(lambda x: fillna_in_group(x)))\n",
    "train_splitted_columns['CryoSleep'].update(train_groupped_by_surname_and_group['CryoSleep'].apply(lambda x: fillna_in_group(x)))\n",
    "train_splitted_columns['VIP'].update(train_groupped_by_surname_and_group['VIP'].apply(lambda x: fillna_in_group(x)))\n",
    "train_splitted_columns['Deck'].update(train_groupped_by_surname_and_group['Deck'].apply(lambda x: fillna_in_group(x)))\n",
    "\n",
    "# Заполним пропуски в местах отправки для пассажиров из одной и той же группы\n",
    "train_splitted_columns['HomePlanet'].update(train_groupped_by_group['HomePlanet'].apply(lambda x: fillna_in_group(x)))\n",
    "\n",
    "# Пассажиры, находящиеся в состоянии криосна, врядли пользуются дополнительными сервисами,\n",
    "# поэтому заполним пропуски для них нулями\n",
    "train_splitted_columns.loc[train_splitted_columns['CryoSleep'] == True, ['RoomService', 'FoodCourt', 'ShoppingMall', 'Spa', 'VRDeck']] = \\\n",
    "    train_splitted_columns.loc[train_splitted_columns['CryoSleep'] == True, ['RoomService', 'FoodCourt', 'ShoppingMall', 'Spa', 'VRDeck']].fillna(0)"
   ],
   "metadata": {
    "collapsed": false
   }
  },
  {
   "cell_type": "code",
   "execution_count": 103,
   "outputs": [
    {
     "data": {
      "text/plain": "HomePlanet      103\nCryoSleep       109\nDestination      93\nAge             143\nVIP              71\nRoomService      88\nFoodCourt        90\nShoppingMall     86\nSpa              91\nVRDeck          104\nTransported       0\nDeck            100\nNum             156\nSide            156\nGroup             0\nSurname         160\ndtype: int64"
     },
     "metadata": {},
     "output_type": "display_data"
    },
    {
     "name": "stdout",
     "output_type": "stream",
     "text": [
      "Количество строк с пропусками 1193\n"
     ]
    }
   ],
   "source": [
    "# Посмотрим на количество оставшихся пропусков\n",
    "display(train_splitted_columns.isna().sum())\n",
    "print('Количество строк с пропусками', train_splitted_columns.isnull().any(axis=1).sum())"
   ],
   "metadata": {
    "collapsed": false
   }
  },
  {
   "cell_type": "code",
   "execution_count": 104,
   "outputs": [
    {
     "data": {
      "text/plain": "     HomePlanet CryoSleep    Destination   Age    VIP  RoomService  FoodCourt  \\\n0          Mars     False  PSO J318.5-22  40.0   True        301.0        0.0   \n1        Europa     False    55 Cancri e  13.0  False       1212.0     4485.0   \n2        Europa     False    TRAPPIST-1e  28.0  False          0.0     2560.0   \n3          Mars      True    TRAPPIST-1e  21.0  False          0.0        0.0   \n4         Earth     False    TRAPPIST-1e   6.0  False          0.0        0.0   \n...         ...       ...            ...   ...    ...          ...        ...   \n6949       Mars     False    TRAPPIST-1e  24.0  False       2997.0        0.0   \n6950     Europa      True    TRAPPIST-1e  23.0  False          0.0        0.0   \n6951     Europa     False    55 Cancri e  19.0  False          0.0     1291.0   \n6952     Europa     False    TRAPPIST-1e  32.0  False          0.0       89.0   \n6953     Europa      True    55 Cancri e  31.0  False          0.0        0.0   \n\n      ShoppingMall      Spa  VRDeck Deck   Num Side Group  \n0           1310.0      4.0     NaN    F  1287    P  6234  \n1              0.0   4016.0    57.0    C   290    P  8826  \n2              0.0    134.0   307.0    D   149    P  4453  \n3              0.0      0.0     0.0    F   125    P  0602  \n4              0.0      0.0     0.0    G  1418    S  8796  \n...            ...      ...     ...  ...   ...  ...   ...  \n6949           3.0      0.0     7.0    E    70    P  1182  \n6950           0.0      0.0     0.0    B   106    P  3396  \n6951           0.0  16139.0   687.0    B    48    S  1161  \n6952           0.0   8330.0     1.0    C   255    S  6921  \n6953           0.0      0.0     0.0    C   315    S  8401  \n\n[6954 rows x 14 columns]",
      "text/html": "<div>\n<style scoped>\n    .dataframe tbody tr th:only-of-type {\n        vertical-align: middle;\n    }\n\n    .dataframe tbody tr th {\n        vertical-align: top;\n    }\n\n    .dataframe thead th {\n        text-align: right;\n    }\n</style>\n<table border=\"1\" class=\"dataframe\">\n  <thead>\n    <tr style=\"text-align: right;\">\n      <th></th>\n      <th>HomePlanet</th>\n      <th>CryoSleep</th>\n      <th>Destination</th>\n      <th>Age</th>\n      <th>VIP</th>\n      <th>RoomService</th>\n      <th>FoodCourt</th>\n      <th>ShoppingMall</th>\n      <th>Spa</th>\n      <th>VRDeck</th>\n      <th>Deck</th>\n      <th>Num</th>\n      <th>Side</th>\n      <th>Group</th>\n    </tr>\n  </thead>\n  <tbody>\n    <tr>\n      <th>0</th>\n      <td>Mars</td>\n      <td>False</td>\n      <td>PSO J318.5-22</td>\n      <td>40.0</td>\n      <td>True</td>\n      <td>301.0</td>\n      <td>0.0</td>\n      <td>1310.0</td>\n      <td>4.0</td>\n      <td>NaN</td>\n      <td>F</td>\n      <td>1287</td>\n      <td>P</td>\n      <td>6234</td>\n    </tr>\n    <tr>\n      <th>1</th>\n      <td>Europa</td>\n      <td>False</td>\n      <td>55 Cancri e</td>\n      <td>13.0</td>\n      <td>False</td>\n      <td>1212.0</td>\n      <td>4485.0</td>\n      <td>0.0</td>\n      <td>4016.0</td>\n      <td>57.0</td>\n      <td>C</td>\n      <td>290</td>\n      <td>P</td>\n      <td>8826</td>\n    </tr>\n    <tr>\n      <th>2</th>\n      <td>Europa</td>\n      <td>False</td>\n      <td>TRAPPIST-1e</td>\n      <td>28.0</td>\n      <td>False</td>\n      <td>0.0</td>\n      <td>2560.0</td>\n      <td>0.0</td>\n      <td>134.0</td>\n      <td>307.0</td>\n      <td>D</td>\n      <td>149</td>\n      <td>P</td>\n      <td>4453</td>\n    </tr>\n    <tr>\n      <th>3</th>\n      <td>Mars</td>\n      <td>True</td>\n      <td>TRAPPIST-1e</td>\n      <td>21.0</td>\n      <td>False</td>\n      <td>0.0</td>\n      <td>0.0</td>\n      <td>0.0</td>\n      <td>0.0</td>\n      <td>0.0</td>\n      <td>F</td>\n      <td>125</td>\n      <td>P</td>\n      <td>0602</td>\n    </tr>\n    <tr>\n      <th>4</th>\n      <td>Earth</td>\n      <td>False</td>\n      <td>TRAPPIST-1e</td>\n      <td>6.0</td>\n      <td>False</td>\n      <td>0.0</td>\n      <td>0.0</td>\n      <td>0.0</td>\n      <td>0.0</td>\n      <td>0.0</td>\n      <td>G</td>\n      <td>1418</td>\n      <td>S</td>\n      <td>8796</td>\n    </tr>\n    <tr>\n      <th>...</th>\n      <td>...</td>\n      <td>...</td>\n      <td>...</td>\n      <td>...</td>\n      <td>...</td>\n      <td>...</td>\n      <td>...</td>\n      <td>...</td>\n      <td>...</td>\n      <td>...</td>\n      <td>...</td>\n      <td>...</td>\n      <td>...</td>\n      <td>...</td>\n    </tr>\n    <tr>\n      <th>6949</th>\n      <td>Mars</td>\n      <td>False</td>\n      <td>TRAPPIST-1e</td>\n      <td>24.0</td>\n      <td>False</td>\n      <td>2997.0</td>\n      <td>0.0</td>\n      <td>3.0</td>\n      <td>0.0</td>\n      <td>7.0</td>\n      <td>E</td>\n      <td>70</td>\n      <td>P</td>\n      <td>1182</td>\n    </tr>\n    <tr>\n      <th>6950</th>\n      <td>Europa</td>\n      <td>True</td>\n      <td>TRAPPIST-1e</td>\n      <td>23.0</td>\n      <td>False</td>\n      <td>0.0</td>\n      <td>0.0</td>\n      <td>0.0</td>\n      <td>0.0</td>\n      <td>0.0</td>\n      <td>B</td>\n      <td>106</td>\n      <td>P</td>\n      <td>3396</td>\n    </tr>\n    <tr>\n      <th>6951</th>\n      <td>Europa</td>\n      <td>False</td>\n      <td>55 Cancri e</td>\n      <td>19.0</td>\n      <td>False</td>\n      <td>0.0</td>\n      <td>1291.0</td>\n      <td>0.0</td>\n      <td>16139.0</td>\n      <td>687.0</td>\n      <td>B</td>\n      <td>48</td>\n      <td>S</td>\n      <td>1161</td>\n    </tr>\n    <tr>\n      <th>6952</th>\n      <td>Europa</td>\n      <td>False</td>\n      <td>TRAPPIST-1e</td>\n      <td>32.0</td>\n      <td>False</td>\n      <td>0.0</td>\n      <td>89.0</td>\n      <td>0.0</td>\n      <td>8330.0</td>\n      <td>1.0</td>\n      <td>C</td>\n      <td>255</td>\n      <td>S</td>\n      <td>6921</td>\n    </tr>\n    <tr>\n      <th>6953</th>\n      <td>Europa</td>\n      <td>True</td>\n      <td>55 Cancri e</td>\n      <td>31.0</td>\n      <td>False</td>\n      <td>0.0</td>\n      <td>0.0</td>\n      <td>0.0</td>\n      <td>0.0</td>\n      <td>0.0</td>\n      <td>C</td>\n      <td>315</td>\n      <td>S</td>\n      <td>8401</td>\n    </tr>\n  </tbody>\n</table>\n<p>6954 rows × 14 columns</p>\n</div>"
     },
     "metadata": {},
     "output_type": "display_data"
    },
    {
     "data": {
      "text/plain": "0        True\n1       False\n2       False\n3        True\n4        True\n        ...  \n6949     True\n6950     True\n6951    False\n6952    False\n6953     True\nName: Transported, Length: 6954, dtype: bool"
     },
     "metadata": {},
     "output_type": "display_data"
    }
   ],
   "source": [
    "# Выделим целевой признак из train выборки и удалим колонку 'Surname'\n",
    "train_features = train_splitted_columns.drop(columns=['Transported', 'Surname'])\n",
    "train_target = train_splitted_columns.Transported\n",
    "\n",
    "display(train_features)\n",
    "display(train_target)"
   ],
   "metadata": {
    "collapsed": false
   }
  },
  {
   "cell_type": "code",
   "execution_count": 105,
   "outputs": [
    {
     "data": {
      "text/plain": "True     3502\nFalse    3452\nName: Transported, dtype: int64"
     },
     "execution_count": 105,
     "metadata": {},
     "output_type": "execute_result"
    }
   ],
   "source": [
    "# Оценим сбалансированность train выборки\n",
    "train_target.value_counts()"
   ],
   "metadata": {
    "collapsed": false
   }
  },
  {
   "cell_type": "code",
   "execution_count": 106,
   "outputs": [],
   "source": [
    "# Выделим категориальные, бинарные и числовые колонки\n",
    "category_columns = ['HomePlanet', 'Destination', 'Deck']\n",
    "binary_columns = ['CryoSleep', 'VIP', 'Side']\n",
    "numeric_column = ['Age', 'RoomService', 'FoodCourt', 'ShoppingMall', 'Spa', 'VRDeck', 'Num', 'Group']"
   ],
   "metadata": {
    "collapsed": false
   }
  },
  {
   "cell_type": "code",
   "execution_count": 107,
   "outputs": [
    {
     "data": {
      "text/plain": "ColumnTransformer(remainder='passthrough',\n                  transformers=[('handle_numeric_columns',\n                                 Pipeline(steps=[('scaling', StandardScaler()),\n                                                 ('drop_correlations',\n                                                  DropCorrelatedFeatures())]),\n                                 ['Age', 'RoomService', 'FoodCourt',\n                                  'ShoppingMall', 'Spa', 'VRDeck', 'Num',\n                                  'Group']),\n                                ('category_columns_encoding',\n                                 OrdinalEncoder(handle_unknown='use_encoded_value',\n                                                unknown_value=-1),\n                                 ['HomePlanet', 'Destination', 'Deck']),\n                                ('binary_columns_encoding',\n                                 OneHotEncoder(drop='first',\n                                               handle_unknown='ignore'),\n                                 ['CryoSleep', 'VIP', 'Side'])])",
      "text/html": "<style>#sk-container-id-7 {color: black;background-color: white;}#sk-container-id-7 pre{padding: 0;}#sk-container-id-7 div.sk-toggleable {background-color: white;}#sk-container-id-7 label.sk-toggleable__label {cursor: pointer;display: block;width: 100%;margin-bottom: 0;padding: 0.3em;box-sizing: border-box;text-align: center;}#sk-container-id-7 label.sk-toggleable__label-arrow:before {content: \"▸\";float: left;margin-right: 0.25em;color: #696969;}#sk-container-id-7 label.sk-toggleable__label-arrow:hover:before {color: black;}#sk-container-id-7 div.sk-estimator:hover label.sk-toggleable__label-arrow:before {color: black;}#sk-container-id-7 div.sk-toggleable__content {max-height: 0;max-width: 0;overflow: hidden;text-align: left;background-color: #f0f8ff;}#sk-container-id-7 div.sk-toggleable__content pre {margin: 0.2em;color: black;border-radius: 0.25em;background-color: #f0f8ff;}#sk-container-id-7 input.sk-toggleable__control:checked~div.sk-toggleable__content {max-height: 200px;max-width: 100%;overflow: auto;}#sk-container-id-7 input.sk-toggleable__control:checked~label.sk-toggleable__label-arrow:before {content: \"▾\";}#sk-container-id-7 div.sk-estimator input.sk-toggleable__control:checked~label.sk-toggleable__label {background-color: #d4ebff;}#sk-container-id-7 div.sk-label input.sk-toggleable__control:checked~label.sk-toggleable__label {background-color: #d4ebff;}#sk-container-id-7 input.sk-hidden--visually {border: 0;clip: rect(1px 1px 1px 1px);clip: rect(1px, 1px, 1px, 1px);height: 1px;margin: -1px;overflow: hidden;padding: 0;position: absolute;width: 1px;}#sk-container-id-7 div.sk-estimator {font-family: monospace;background-color: #f0f8ff;border: 1px dotted black;border-radius: 0.25em;box-sizing: border-box;margin-bottom: 0.5em;}#sk-container-id-7 div.sk-estimator:hover {background-color: #d4ebff;}#sk-container-id-7 div.sk-parallel-item::after {content: \"\";width: 100%;border-bottom: 1px solid gray;flex-grow: 1;}#sk-container-id-7 div.sk-label:hover label.sk-toggleable__label {background-color: #d4ebff;}#sk-container-id-7 div.sk-serial::before {content: \"\";position: absolute;border-left: 1px solid gray;box-sizing: border-box;top: 0;bottom: 0;left: 50%;z-index: 0;}#sk-container-id-7 div.sk-serial {display: flex;flex-direction: column;align-items: center;background-color: white;padding-right: 0.2em;padding-left: 0.2em;position: relative;}#sk-container-id-7 div.sk-item {position: relative;z-index: 1;}#sk-container-id-7 div.sk-parallel {display: flex;align-items: stretch;justify-content: center;background-color: white;position: relative;}#sk-container-id-7 div.sk-item::before, #sk-container-id-7 div.sk-parallel-item::before {content: \"\";position: absolute;border-left: 1px solid gray;box-sizing: border-box;top: 0;bottom: 0;left: 50%;z-index: -1;}#sk-container-id-7 div.sk-parallel-item {display: flex;flex-direction: column;z-index: 1;position: relative;background-color: white;}#sk-container-id-7 div.sk-parallel-item:first-child::after {align-self: flex-end;width: 50%;}#sk-container-id-7 div.sk-parallel-item:last-child::after {align-self: flex-start;width: 50%;}#sk-container-id-7 div.sk-parallel-item:only-child::after {width: 0;}#sk-container-id-7 div.sk-dashed-wrapped {border: 1px dashed gray;margin: 0 0.4em 0.5em 0.4em;box-sizing: border-box;padding-bottom: 0.4em;background-color: white;}#sk-container-id-7 div.sk-label label {font-family: monospace;font-weight: bold;display: inline-block;line-height: 1.2em;}#sk-container-id-7 div.sk-label-container {text-align: center;}#sk-container-id-7 div.sk-container {/* jupyter's `normalize.less` sets `[hidden] { display: none; }` but bootstrap.min.css set `[hidden] { display: none !important; }` so we also need the `!important` here to be able to override the default hidden behavior on the sphinx rendered scikit-learn.org. See: https://github.com/scikit-learn/scikit-learn/issues/21755 */display: inline-block !important;position: relative;}#sk-container-id-7 div.sk-text-repr-fallback {display: none;}</style><div id=\"sk-container-id-7\" class=\"sk-top-container\"><div class=\"sk-text-repr-fallback\"><pre>ColumnTransformer(remainder=&#x27;passthrough&#x27;,\n                  transformers=[(&#x27;handle_numeric_columns&#x27;,\n                                 Pipeline(steps=[(&#x27;scaling&#x27;, StandardScaler()),\n                                                 (&#x27;drop_correlations&#x27;,\n                                                  DropCorrelatedFeatures())]),\n                                 [&#x27;Age&#x27;, &#x27;RoomService&#x27;, &#x27;FoodCourt&#x27;,\n                                  &#x27;ShoppingMall&#x27;, &#x27;Spa&#x27;, &#x27;VRDeck&#x27;, &#x27;Num&#x27;,\n                                  &#x27;Group&#x27;]),\n                                (&#x27;category_columns_encoding&#x27;,\n                                 OrdinalEncoder(handle_unknown=&#x27;use_encoded_value&#x27;,\n                                                unknown_value=-1),\n                                 [&#x27;HomePlanet&#x27;, &#x27;Destination&#x27;, &#x27;Deck&#x27;]),\n                                (&#x27;binary_columns_encoding&#x27;,\n                                 OneHotEncoder(drop=&#x27;first&#x27;,\n                                               handle_unknown=&#x27;ignore&#x27;),\n                                 [&#x27;CryoSleep&#x27;, &#x27;VIP&#x27;, &#x27;Side&#x27;])])</pre><b>In a Jupyter environment, please rerun this cell to show the HTML representation or trust the notebook. <br />On GitHub, the HTML representation is unable to render, please try loading this page with nbviewer.org.</b></div><div class=\"sk-container\" hidden><div class=\"sk-item sk-dashed-wrapped\"><div class=\"sk-label-container\"><div class=\"sk-label sk-toggleable\"><input class=\"sk-toggleable__control sk-hidden--visually\" id=\"sk-estimator-id-77\" type=\"checkbox\" ><label for=\"sk-estimator-id-77\" class=\"sk-toggleable__label sk-toggleable__label-arrow\">ColumnTransformer</label><div class=\"sk-toggleable__content\"><pre>ColumnTransformer(remainder=&#x27;passthrough&#x27;,\n                  transformers=[(&#x27;handle_numeric_columns&#x27;,\n                                 Pipeline(steps=[(&#x27;scaling&#x27;, StandardScaler()),\n                                                 (&#x27;drop_correlations&#x27;,\n                                                  DropCorrelatedFeatures())]),\n                                 [&#x27;Age&#x27;, &#x27;RoomService&#x27;, &#x27;FoodCourt&#x27;,\n                                  &#x27;ShoppingMall&#x27;, &#x27;Spa&#x27;, &#x27;VRDeck&#x27;, &#x27;Num&#x27;,\n                                  &#x27;Group&#x27;]),\n                                (&#x27;category_columns_encoding&#x27;,\n                                 OrdinalEncoder(handle_unknown=&#x27;use_encoded_value&#x27;,\n                                                unknown_value=-1),\n                                 [&#x27;HomePlanet&#x27;, &#x27;Destination&#x27;, &#x27;Deck&#x27;]),\n                                (&#x27;binary_columns_encoding&#x27;,\n                                 OneHotEncoder(drop=&#x27;first&#x27;,\n                                               handle_unknown=&#x27;ignore&#x27;),\n                                 [&#x27;CryoSleep&#x27;, &#x27;VIP&#x27;, &#x27;Side&#x27;])])</pre></div></div></div><div class=\"sk-parallel\"><div class=\"sk-parallel-item\"><div class=\"sk-item\"><div class=\"sk-label-container\"><div class=\"sk-label sk-toggleable\"><input class=\"sk-toggleable__control sk-hidden--visually\" id=\"sk-estimator-id-78\" type=\"checkbox\" ><label for=\"sk-estimator-id-78\" class=\"sk-toggleable__label sk-toggleable__label-arrow\">handle_numeric_columns</label><div class=\"sk-toggleable__content\"><pre>[&#x27;Age&#x27;, &#x27;RoomService&#x27;, &#x27;FoodCourt&#x27;, &#x27;ShoppingMall&#x27;, &#x27;Spa&#x27;, &#x27;VRDeck&#x27;, &#x27;Num&#x27;, &#x27;Group&#x27;]</pre></div></div></div><div class=\"sk-serial\"><div class=\"sk-item\"><div class=\"sk-serial\"><div class=\"sk-item\"><div class=\"sk-estimator sk-toggleable\"><input class=\"sk-toggleable__control sk-hidden--visually\" id=\"sk-estimator-id-79\" type=\"checkbox\" ><label for=\"sk-estimator-id-79\" class=\"sk-toggleable__label sk-toggleable__label-arrow\">StandardScaler</label><div class=\"sk-toggleable__content\"><pre>StandardScaler()</pre></div></div></div><div class=\"sk-item\"><div class=\"sk-estimator sk-toggleable\"><input class=\"sk-toggleable__control sk-hidden--visually\" id=\"sk-estimator-id-80\" type=\"checkbox\" ><label for=\"sk-estimator-id-80\" class=\"sk-toggleable__label sk-toggleable__label-arrow\">DropCorrelatedFeatures</label><div class=\"sk-toggleable__content\"><pre>DropCorrelatedFeatures()</pre></div></div></div></div></div></div></div></div><div class=\"sk-parallel-item\"><div class=\"sk-item\"><div class=\"sk-label-container\"><div class=\"sk-label sk-toggleable\"><input class=\"sk-toggleable__control sk-hidden--visually\" id=\"sk-estimator-id-81\" type=\"checkbox\" ><label for=\"sk-estimator-id-81\" class=\"sk-toggleable__label sk-toggleable__label-arrow\">category_columns_encoding</label><div class=\"sk-toggleable__content\"><pre>[&#x27;HomePlanet&#x27;, &#x27;Destination&#x27;, &#x27;Deck&#x27;]</pre></div></div></div><div class=\"sk-serial\"><div class=\"sk-item\"><div class=\"sk-estimator sk-toggleable\"><input class=\"sk-toggleable__control sk-hidden--visually\" id=\"sk-estimator-id-82\" type=\"checkbox\" ><label for=\"sk-estimator-id-82\" class=\"sk-toggleable__label sk-toggleable__label-arrow\">OrdinalEncoder</label><div class=\"sk-toggleable__content\"><pre>OrdinalEncoder(handle_unknown=&#x27;use_encoded_value&#x27;, unknown_value=-1)</pre></div></div></div></div></div></div><div class=\"sk-parallel-item\"><div class=\"sk-item\"><div class=\"sk-label-container\"><div class=\"sk-label sk-toggleable\"><input class=\"sk-toggleable__control sk-hidden--visually\" id=\"sk-estimator-id-83\" type=\"checkbox\" ><label for=\"sk-estimator-id-83\" class=\"sk-toggleable__label sk-toggleable__label-arrow\">binary_columns_encoding</label><div class=\"sk-toggleable__content\"><pre>[&#x27;CryoSleep&#x27;, &#x27;VIP&#x27;, &#x27;Side&#x27;]</pre></div></div></div><div class=\"sk-serial\"><div class=\"sk-item\"><div class=\"sk-estimator sk-toggleable\"><input class=\"sk-toggleable__control sk-hidden--visually\" id=\"sk-estimator-id-84\" type=\"checkbox\" ><label for=\"sk-estimator-id-84\" class=\"sk-toggleable__label sk-toggleable__label-arrow\">OneHotEncoder</label><div class=\"sk-toggleable__content\"><pre>OneHotEncoder(drop=&#x27;first&#x27;, handle_unknown=&#x27;ignore&#x27;)</pre></div></div></div></div></div></div><div class=\"sk-parallel-item\"><div class=\"sk-item\"><div class=\"sk-label-container\"><div class=\"sk-label sk-toggleable\"><input class=\"sk-toggleable__control sk-hidden--visually\" id=\"sk-estimator-id-85\" type=\"checkbox\" ><label for=\"sk-estimator-id-85\" class=\"sk-toggleable__label sk-toggleable__label-arrow\">remainder</label><div class=\"sk-toggleable__content\"><pre></pre></div></div></div><div class=\"sk-serial\"><div class=\"sk-item\"><div class=\"sk-estimator sk-toggleable\"><input class=\"sk-toggleable__control sk-hidden--visually\" id=\"sk-estimator-id-86\" type=\"checkbox\" ><label for=\"sk-estimator-id-86\" class=\"sk-toggleable__label sk-toggleable__label-arrow\">passthrough</label><div class=\"sk-toggleable__content\"><pre>passthrough</pre></div></div></div></div></div></div></div></div></div></div>"
     },
     "execution_count": 107,
     "metadata": {},
     "output_type": "execute_result"
    }
   ],
   "source": [
    "# Для категориальных колонок будем использовать OrdinalEncoder, а для бинарных OneHotEncoder\n",
    "numeric_columns_pipeline = Pipeline([('scaling', StandardScaler()),\n",
    "                                     ('drop_correlations', DropCorrelatedFeatures())])\n",
    "\n",
    "columns_pipeline = ColumnTransformer([('handle_numeric_columns', numeric_columns_pipeline, numeric_column),\n",
    "                                      ('category_columns_encoding', OrdinalEncoder(handle_unknown='use_encoded_value', unknown_value=-1), category_columns),\n",
    "                                      ('binary_columns_encoding', OneHotEncoder(handle_unknown='ignore', drop='first'), binary_columns)],\n",
    "                                      remainder='passthrough')\n",
    "\n",
    "columns_pipeline"
   ],
   "metadata": {
    "collapsed": false
   }
  },
  {
   "cell_type": "code",
   "execution_count": 108,
   "outputs": [
    {
     "data": {
      "text/plain": "Pipeline(steps=[('columntransformer',\n                 ColumnTransformer(remainder='passthrough',\n                                   transformers=[('handle_numeric_columns',\n                                                  Pipeline(steps=[('scaling',\n                                                                   StandardScaler()),\n                                                                  ('drop_correlations',\n                                                                   DropCorrelatedFeatures())]),\n                                                  ['Age', 'RoomService',\n                                                   'FoodCourt', 'ShoppingMall',\n                                                   'Spa', 'VRDeck', 'Num',\n                                                   'Group']),\n                                                 ('category_columns_encoding',\n                                                  OrdinalEncoder(handle_unknown='use_encoded_value',\n                                                                 unknown_value=-1),\n                                                  ['HomePlanet', 'Destination',\n                                                   'Deck']),\n                                                 ('binary_columns_encoding',\n                                                  OneHotEncoder(drop='first',\n                                                                handle_unknown='ignore'),\n                                                  ['CryoSleep', 'VIP',\n                                                   'Side'])])),\n                ('dropduplicatefeatures', DropDuplicateFeatures()),\n                ('knnimputer', KNNImputer())])",
      "text/html": "<style>#sk-container-id-8 {color: black;background-color: white;}#sk-container-id-8 pre{padding: 0;}#sk-container-id-8 div.sk-toggleable {background-color: white;}#sk-container-id-8 label.sk-toggleable__label {cursor: pointer;display: block;width: 100%;margin-bottom: 0;padding: 0.3em;box-sizing: border-box;text-align: center;}#sk-container-id-8 label.sk-toggleable__label-arrow:before {content: \"▸\";float: left;margin-right: 0.25em;color: #696969;}#sk-container-id-8 label.sk-toggleable__label-arrow:hover:before {color: black;}#sk-container-id-8 div.sk-estimator:hover label.sk-toggleable__label-arrow:before {color: black;}#sk-container-id-8 div.sk-toggleable__content {max-height: 0;max-width: 0;overflow: hidden;text-align: left;background-color: #f0f8ff;}#sk-container-id-8 div.sk-toggleable__content pre {margin: 0.2em;color: black;border-radius: 0.25em;background-color: #f0f8ff;}#sk-container-id-8 input.sk-toggleable__control:checked~div.sk-toggleable__content {max-height: 200px;max-width: 100%;overflow: auto;}#sk-container-id-8 input.sk-toggleable__control:checked~label.sk-toggleable__label-arrow:before {content: \"▾\";}#sk-container-id-8 div.sk-estimator input.sk-toggleable__control:checked~label.sk-toggleable__label {background-color: #d4ebff;}#sk-container-id-8 div.sk-label input.sk-toggleable__control:checked~label.sk-toggleable__label {background-color: #d4ebff;}#sk-container-id-8 input.sk-hidden--visually {border: 0;clip: rect(1px 1px 1px 1px);clip: rect(1px, 1px, 1px, 1px);height: 1px;margin: -1px;overflow: hidden;padding: 0;position: absolute;width: 1px;}#sk-container-id-8 div.sk-estimator {font-family: monospace;background-color: #f0f8ff;border: 1px dotted black;border-radius: 0.25em;box-sizing: border-box;margin-bottom: 0.5em;}#sk-container-id-8 div.sk-estimator:hover {background-color: #d4ebff;}#sk-container-id-8 div.sk-parallel-item::after {content: \"\";width: 100%;border-bottom: 1px solid gray;flex-grow: 1;}#sk-container-id-8 div.sk-label:hover label.sk-toggleable__label {background-color: #d4ebff;}#sk-container-id-8 div.sk-serial::before {content: \"\";position: absolute;border-left: 1px solid gray;box-sizing: border-box;top: 0;bottom: 0;left: 50%;z-index: 0;}#sk-container-id-8 div.sk-serial {display: flex;flex-direction: column;align-items: center;background-color: white;padding-right: 0.2em;padding-left: 0.2em;position: relative;}#sk-container-id-8 div.sk-item {position: relative;z-index: 1;}#sk-container-id-8 div.sk-parallel {display: flex;align-items: stretch;justify-content: center;background-color: white;position: relative;}#sk-container-id-8 div.sk-item::before, #sk-container-id-8 div.sk-parallel-item::before {content: \"\";position: absolute;border-left: 1px solid gray;box-sizing: border-box;top: 0;bottom: 0;left: 50%;z-index: -1;}#sk-container-id-8 div.sk-parallel-item {display: flex;flex-direction: column;z-index: 1;position: relative;background-color: white;}#sk-container-id-8 div.sk-parallel-item:first-child::after {align-self: flex-end;width: 50%;}#sk-container-id-8 div.sk-parallel-item:last-child::after {align-self: flex-start;width: 50%;}#sk-container-id-8 div.sk-parallel-item:only-child::after {width: 0;}#sk-container-id-8 div.sk-dashed-wrapped {border: 1px dashed gray;margin: 0 0.4em 0.5em 0.4em;box-sizing: border-box;padding-bottom: 0.4em;background-color: white;}#sk-container-id-8 div.sk-label label {font-family: monospace;font-weight: bold;display: inline-block;line-height: 1.2em;}#sk-container-id-8 div.sk-label-container {text-align: center;}#sk-container-id-8 div.sk-container {/* jupyter's `normalize.less` sets `[hidden] { display: none; }` but bootstrap.min.css set `[hidden] { display: none !important; }` so we also need the `!important` here to be able to override the default hidden behavior on the sphinx rendered scikit-learn.org. See: https://github.com/scikit-learn/scikit-learn/issues/21755 */display: inline-block !important;position: relative;}#sk-container-id-8 div.sk-text-repr-fallback {display: none;}</style><div id=\"sk-container-id-8\" class=\"sk-top-container\"><div class=\"sk-text-repr-fallback\"><pre>Pipeline(steps=[(&#x27;columntransformer&#x27;,\n                 ColumnTransformer(remainder=&#x27;passthrough&#x27;,\n                                   transformers=[(&#x27;handle_numeric_columns&#x27;,\n                                                  Pipeline(steps=[(&#x27;scaling&#x27;,\n                                                                   StandardScaler()),\n                                                                  (&#x27;drop_correlations&#x27;,\n                                                                   DropCorrelatedFeatures())]),\n                                                  [&#x27;Age&#x27;, &#x27;RoomService&#x27;,\n                                                   &#x27;FoodCourt&#x27;, &#x27;ShoppingMall&#x27;,\n                                                   &#x27;Spa&#x27;, &#x27;VRDeck&#x27;, &#x27;Num&#x27;,\n                                                   &#x27;Group&#x27;]),\n                                                 (&#x27;category_columns_encoding&#x27;,\n                                                  OrdinalEncoder(handle_unknown=&#x27;use_encoded_value&#x27;,\n                                                                 unknown_value=-1),\n                                                  [&#x27;HomePlanet&#x27;, &#x27;Destination&#x27;,\n                                                   &#x27;Deck&#x27;]),\n                                                 (&#x27;binary_columns_encoding&#x27;,\n                                                  OneHotEncoder(drop=&#x27;first&#x27;,\n                                                                handle_unknown=&#x27;ignore&#x27;),\n                                                  [&#x27;CryoSleep&#x27;, &#x27;VIP&#x27;,\n                                                   &#x27;Side&#x27;])])),\n                (&#x27;dropduplicatefeatures&#x27;, DropDuplicateFeatures()),\n                (&#x27;knnimputer&#x27;, KNNImputer())])</pre><b>In a Jupyter environment, please rerun this cell to show the HTML representation or trust the notebook. <br />On GitHub, the HTML representation is unable to render, please try loading this page with nbviewer.org.</b></div><div class=\"sk-container\" hidden><div class=\"sk-item sk-dashed-wrapped\"><div class=\"sk-label-container\"><div class=\"sk-label sk-toggleable\"><input class=\"sk-toggleable__control sk-hidden--visually\" id=\"sk-estimator-id-87\" type=\"checkbox\" ><label for=\"sk-estimator-id-87\" class=\"sk-toggleable__label sk-toggleable__label-arrow\">Pipeline</label><div class=\"sk-toggleable__content\"><pre>Pipeline(steps=[(&#x27;columntransformer&#x27;,\n                 ColumnTransformer(remainder=&#x27;passthrough&#x27;,\n                                   transformers=[(&#x27;handle_numeric_columns&#x27;,\n                                                  Pipeline(steps=[(&#x27;scaling&#x27;,\n                                                                   StandardScaler()),\n                                                                  (&#x27;drop_correlations&#x27;,\n                                                                   DropCorrelatedFeatures())]),\n                                                  [&#x27;Age&#x27;, &#x27;RoomService&#x27;,\n                                                   &#x27;FoodCourt&#x27;, &#x27;ShoppingMall&#x27;,\n                                                   &#x27;Spa&#x27;, &#x27;VRDeck&#x27;, &#x27;Num&#x27;,\n                                                   &#x27;Group&#x27;]),\n                                                 (&#x27;category_columns_encoding&#x27;,\n                                                  OrdinalEncoder(handle_unknown=&#x27;use_encoded_value&#x27;,\n                                                                 unknown_value=-1),\n                                                  [&#x27;HomePlanet&#x27;, &#x27;Destination&#x27;,\n                                                   &#x27;Deck&#x27;]),\n                                                 (&#x27;binary_columns_encoding&#x27;,\n                                                  OneHotEncoder(drop=&#x27;first&#x27;,\n                                                                handle_unknown=&#x27;ignore&#x27;),\n                                                  [&#x27;CryoSleep&#x27;, &#x27;VIP&#x27;,\n                                                   &#x27;Side&#x27;])])),\n                (&#x27;dropduplicatefeatures&#x27;, DropDuplicateFeatures()),\n                (&#x27;knnimputer&#x27;, KNNImputer())])</pre></div></div></div><div class=\"sk-serial\"><div class=\"sk-item sk-dashed-wrapped\"><div class=\"sk-label-container\"><div class=\"sk-label sk-toggleable\"><input class=\"sk-toggleable__control sk-hidden--visually\" id=\"sk-estimator-id-88\" type=\"checkbox\" ><label for=\"sk-estimator-id-88\" class=\"sk-toggleable__label sk-toggleable__label-arrow\">columntransformer: ColumnTransformer</label><div class=\"sk-toggleable__content\"><pre>ColumnTransformer(remainder=&#x27;passthrough&#x27;,\n                  transformers=[(&#x27;handle_numeric_columns&#x27;,\n                                 Pipeline(steps=[(&#x27;scaling&#x27;, StandardScaler()),\n                                                 (&#x27;drop_correlations&#x27;,\n                                                  DropCorrelatedFeatures())]),\n                                 [&#x27;Age&#x27;, &#x27;RoomService&#x27;, &#x27;FoodCourt&#x27;,\n                                  &#x27;ShoppingMall&#x27;, &#x27;Spa&#x27;, &#x27;VRDeck&#x27;, &#x27;Num&#x27;,\n                                  &#x27;Group&#x27;]),\n                                (&#x27;category_columns_encoding&#x27;,\n                                 OrdinalEncoder(handle_unknown=&#x27;use_encoded_value&#x27;,\n                                                unknown_value=-1),\n                                 [&#x27;HomePlanet&#x27;, &#x27;Destination&#x27;, &#x27;Deck&#x27;]),\n                                (&#x27;binary_columns_encoding&#x27;,\n                                 OneHotEncoder(drop=&#x27;first&#x27;,\n                                               handle_unknown=&#x27;ignore&#x27;),\n                                 [&#x27;CryoSleep&#x27;, &#x27;VIP&#x27;, &#x27;Side&#x27;])])</pre></div></div></div><div class=\"sk-parallel\"><div class=\"sk-parallel-item\"><div class=\"sk-item\"><div class=\"sk-label-container\"><div class=\"sk-label sk-toggleable\"><input class=\"sk-toggleable__control sk-hidden--visually\" id=\"sk-estimator-id-89\" type=\"checkbox\" ><label for=\"sk-estimator-id-89\" class=\"sk-toggleable__label sk-toggleable__label-arrow\">handle_numeric_columns</label><div class=\"sk-toggleable__content\"><pre>[&#x27;Age&#x27;, &#x27;RoomService&#x27;, &#x27;FoodCourt&#x27;, &#x27;ShoppingMall&#x27;, &#x27;Spa&#x27;, &#x27;VRDeck&#x27;, &#x27;Num&#x27;, &#x27;Group&#x27;]</pre></div></div></div><div class=\"sk-serial\"><div class=\"sk-item\"><div class=\"sk-serial\"><div class=\"sk-item\"><div class=\"sk-estimator sk-toggleable\"><input class=\"sk-toggleable__control sk-hidden--visually\" id=\"sk-estimator-id-90\" type=\"checkbox\" ><label for=\"sk-estimator-id-90\" class=\"sk-toggleable__label sk-toggleable__label-arrow\">StandardScaler</label><div class=\"sk-toggleable__content\"><pre>StandardScaler()</pre></div></div></div><div class=\"sk-item\"><div class=\"sk-estimator sk-toggleable\"><input class=\"sk-toggleable__control sk-hidden--visually\" id=\"sk-estimator-id-91\" type=\"checkbox\" ><label for=\"sk-estimator-id-91\" class=\"sk-toggleable__label sk-toggleable__label-arrow\">DropCorrelatedFeatures</label><div class=\"sk-toggleable__content\"><pre>DropCorrelatedFeatures()</pre></div></div></div></div></div></div></div></div><div class=\"sk-parallel-item\"><div class=\"sk-item\"><div class=\"sk-label-container\"><div class=\"sk-label sk-toggleable\"><input class=\"sk-toggleable__control sk-hidden--visually\" id=\"sk-estimator-id-92\" type=\"checkbox\" ><label for=\"sk-estimator-id-92\" class=\"sk-toggleable__label sk-toggleable__label-arrow\">category_columns_encoding</label><div class=\"sk-toggleable__content\"><pre>[&#x27;HomePlanet&#x27;, &#x27;Destination&#x27;, &#x27;Deck&#x27;]</pre></div></div></div><div class=\"sk-serial\"><div class=\"sk-item\"><div class=\"sk-estimator sk-toggleable\"><input class=\"sk-toggleable__control sk-hidden--visually\" id=\"sk-estimator-id-93\" type=\"checkbox\" ><label for=\"sk-estimator-id-93\" class=\"sk-toggleable__label sk-toggleable__label-arrow\">OrdinalEncoder</label><div class=\"sk-toggleable__content\"><pre>OrdinalEncoder(handle_unknown=&#x27;use_encoded_value&#x27;, unknown_value=-1)</pre></div></div></div></div></div></div><div class=\"sk-parallel-item\"><div class=\"sk-item\"><div class=\"sk-label-container\"><div class=\"sk-label sk-toggleable\"><input class=\"sk-toggleable__control sk-hidden--visually\" id=\"sk-estimator-id-94\" type=\"checkbox\" ><label for=\"sk-estimator-id-94\" class=\"sk-toggleable__label sk-toggleable__label-arrow\">binary_columns_encoding</label><div class=\"sk-toggleable__content\"><pre>[&#x27;CryoSleep&#x27;, &#x27;VIP&#x27;, &#x27;Side&#x27;]</pre></div></div></div><div class=\"sk-serial\"><div class=\"sk-item\"><div class=\"sk-estimator sk-toggleable\"><input class=\"sk-toggleable__control sk-hidden--visually\" id=\"sk-estimator-id-95\" type=\"checkbox\" ><label for=\"sk-estimator-id-95\" class=\"sk-toggleable__label sk-toggleable__label-arrow\">OneHotEncoder</label><div class=\"sk-toggleable__content\"><pre>OneHotEncoder(drop=&#x27;first&#x27;, handle_unknown=&#x27;ignore&#x27;)</pre></div></div></div></div></div></div><div class=\"sk-parallel-item\"><div class=\"sk-item\"><div class=\"sk-label-container\"><div class=\"sk-label sk-toggleable\"><input class=\"sk-toggleable__control sk-hidden--visually\" id=\"sk-estimator-id-96\" type=\"checkbox\" ><label for=\"sk-estimator-id-96\" class=\"sk-toggleable__label sk-toggleable__label-arrow\">remainder</label><div class=\"sk-toggleable__content\"><pre></pre></div></div></div><div class=\"sk-serial\"><div class=\"sk-item\"><div class=\"sk-estimator sk-toggleable\"><input class=\"sk-toggleable__control sk-hidden--visually\" id=\"sk-estimator-id-97\" type=\"checkbox\" ><label for=\"sk-estimator-id-97\" class=\"sk-toggleable__label sk-toggleable__label-arrow\">passthrough</label><div class=\"sk-toggleable__content\"><pre>passthrough</pre></div></div></div></div></div></div></div></div><div class=\"sk-item\"><div class=\"sk-estimator sk-toggleable\"><input class=\"sk-toggleable__control sk-hidden--visually\" id=\"sk-estimator-id-98\" type=\"checkbox\" ><label for=\"sk-estimator-id-98\" class=\"sk-toggleable__label sk-toggleable__label-arrow\">DropDuplicateFeatures</label><div class=\"sk-toggleable__content\"><pre>DropDuplicateFeatures()</pre></div></div></div><div class=\"sk-item\"><div class=\"sk-estimator sk-toggleable\"><input class=\"sk-toggleable__control sk-hidden--visually\" id=\"sk-estimator-id-99\" type=\"checkbox\" ><label for=\"sk-estimator-id-99\" class=\"sk-toggleable__label sk-toggleable__label-arrow\">KNNImputer</label><div class=\"sk-toggleable__content\"><pre>KNNImputer()</pre></div></div></div></div></div></div></div>"
     },
     "execution_count": 108,
     "metadata": {},
     "output_type": "execute_result"
    }
   ],
   "source": [
    "# Добавим обработку пропусков и дубликатов фич\n",
    "pipeline = make_pipeline(columns_pipeline, DropDuplicateFeatures(), KNNImputer())\n",
    "pipeline"
   ],
   "metadata": {
    "collapsed": false
   }
  },
  {
   "cell_type": "code",
   "execution_count": 109,
   "outputs": [
    {
     "data": {
      "text/plain": "Pipeline(steps=[('columntransformer',\n                 ColumnTransformer(remainder='passthrough',\n                                   transformers=[('handle_numeric_columns',\n                                                  Pipeline(steps=[('scaling',\n                                                                   StandardScaler()),\n                                                                  ('drop_correlations',\n                                                                   DropCorrelatedFeatures())]),\n                                                  ['Age', 'RoomService',\n                                                   'FoodCourt', 'ShoppingMall',\n                                                   'Spa', 'VRDeck', 'Num',\n                                                   'Group']),\n                                                 ('category_columns_encoding',\n                                                  OrdinalEncoder(handle_unknown...\n                                                  ['HomePlanet', 'Destination',\n                                                   'Deck']),\n                                                 ('binary_columns_encoding',\n                                                  OneHotEncoder(drop='first',\n                                                                handle_unknown='ignore'),\n                                                  ['CryoSleep', 'VIP',\n                                                   'Side'])])),\n                ('dropduplicatefeatures', DropDuplicateFeatures()),\n                ('knnimputer', KNNImputer()),\n                ('outlier_detector',\n                 FunctionSampler(func=<function handle_outliers at 0x00000207CBCB49D0>)),\n                ('classification', DummyClassifier())])",
      "text/html": "<style>#sk-container-id-9 {color: black;background-color: white;}#sk-container-id-9 pre{padding: 0;}#sk-container-id-9 div.sk-toggleable {background-color: white;}#sk-container-id-9 label.sk-toggleable__label {cursor: pointer;display: block;width: 100%;margin-bottom: 0;padding: 0.3em;box-sizing: border-box;text-align: center;}#sk-container-id-9 label.sk-toggleable__label-arrow:before {content: \"▸\";float: left;margin-right: 0.25em;color: #696969;}#sk-container-id-9 label.sk-toggleable__label-arrow:hover:before {color: black;}#sk-container-id-9 div.sk-estimator:hover label.sk-toggleable__label-arrow:before {color: black;}#sk-container-id-9 div.sk-toggleable__content {max-height: 0;max-width: 0;overflow: hidden;text-align: left;background-color: #f0f8ff;}#sk-container-id-9 div.sk-toggleable__content pre {margin: 0.2em;color: black;border-radius: 0.25em;background-color: #f0f8ff;}#sk-container-id-9 input.sk-toggleable__control:checked~div.sk-toggleable__content {max-height: 200px;max-width: 100%;overflow: auto;}#sk-container-id-9 input.sk-toggleable__control:checked~label.sk-toggleable__label-arrow:before {content: \"▾\";}#sk-container-id-9 div.sk-estimator input.sk-toggleable__control:checked~label.sk-toggleable__label {background-color: #d4ebff;}#sk-container-id-9 div.sk-label input.sk-toggleable__control:checked~label.sk-toggleable__label {background-color: #d4ebff;}#sk-container-id-9 input.sk-hidden--visually {border: 0;clip: rect(1px 1px 1px 1px);clip: rect(1px, 1px, 1px, 1px);height: 1px;margin: -1px;overflow: hidden;padding: 0;position: absolute;width: 1px;}#sk-container-id-9 div.sk-estimator {font-family: monospace;background-color: #f0f8ff;border: 1px dotted black;border-radius: 0.25em;box-sizing: border-box;margin-bottom: 0.5em;}#sk-container-id-9 div.sk-estimator:hover {background-color: #d4ebff;}#sk-container-id-9 div.sk-parallel-item::after {content: \"\";width: 100%;border-bottom: 1px solid gray;flex-grow: 1;}#sk-container-id-9 div.sk-label:hover label.sk-toggleable__label {background-color: #d4ebff;}#sk-container-id-9 div.sk-serial::before {content: \"\";position: absolute;border-left: 1px solid gray;box-sizing: border-box;top: 0;bottom: 0;left: 50%;z-index: 0;}#sk-container-id-9 div.sk-serial {display: flex;flex-direction: column;align-items: center;background-color: white;padding-right: 0.2em;padding-left: 0.2em;position: relative;}#sk-container-id-9 div.sk-item {position: relative;z-index: 1;}#sk-container-id-9 div.sk-parallel {display: flex;align-items: stretch;justify-content: center;background-color: white;position: relative;}#sk-container-id-9 div.sk-item::before, #sk-container-id-9 div.sk-parallel-item::before {content: \"\";position: absolute;border-left: 1px solid gray;box-sizing: border-box;top: 0;bottom: 0;left: 50%;z-index: -1;}#sk-container-id-9 div.sk-parallel-item {display: flex;flex-direction: column;z-index: 1;position: relative;background-color: white;}#sk-container-id-9 div.sk-parallel-item:first-child::after {align-self: flex-end;width: 50%;}#sk-container-id-9 div.sk-parallel-item:last-child::after {align-self: flex-start;width: 50%;}#sk-container-id-9 div.sk-parallel-item:only-child::after {width: 0;}#sk-container-id-9 div.sk-dashed-wrapped {border: 1px dashed gray;margin: 0 0.4em 0.5em 0.4em;box-sizing: border-box;padding-bottom: 0.4em;background-color: white;}#sk-container-id-9 div.sk-label label {font-family: monospace;font-weight: bold;display: inline-block;line-height: 1.2em;}#sk-container-id-9 div.sk-label-container {text-align: center;}#sk-container-id-9 div.sk-container {/* jupyter's `normalize.less` sets `[hidden] { display: none; }` but bootstrap.min.css set `[hidden] { display: none !important; }` so we also need the `!important` here to be able to override the default hidden behavior on the sphinx rendered scikit-learn.org. See: https://github.com/scikit-learn/scikit-learn/issues/21755 */display: inline-block !important;position: relative;}#sk-container-id-9 div.sk-text-repr-fallback {display: none;}</style><div id=\"sk-container-id-9\" class=\"sk-top-container\"><div class=\"sk-text-repr-fallback\"><pre>Pipeline(steps=[(&#x27;columntransformer&#x27;,\n                 ColumnTransformer(remainder=&#x27;passthrough&#x27;,\n                                   transformers=[(&#x27;handle_numeric_columns&#x27;,\n                                                  Pipeline(steps=[(&#x27;scaling&#x27;,\n                                                                   StandardScaler()),\n                                                                  (&#x27;drop_correlations&#x27;,\n                                                                   DropCorrelatedFeatures())]),\n                                                  [&#x27;Age&#x27;, &#x27;RoomService&#x27;,\n                                                   &#x27;FoodCourt&#x27;, &#x27;ShoppingMall&#x27;,\n                                                   &#x27;Spa&#x27;, &#x27;VRDeck&#x27;, &#x27;Num&#x27;,\n                                                   &#x27;Group&#x27;]),\n                                                 (&#x27;category_columns_encoding&#x27;,\n                                                  OrdinalEncoder(handle_unknown...\n                                                  [&#x27;HomePlanet&#x27;, &#x27;Destination&#x27;,\n                                                   &#x27;Deck&#x27;]),\n                                                 (&#x27;binary_columns_encoding&#x27;,\n                                                  OneHotEncoder(drop=&#x27;first&#x27;,\n                                                                handle_unknown=&#x27;ignore&#x27;),\n                                                  [&#x27;CryoSleep&#x27;, &#x27;VIP&#x27;,\n                                                   &#x27;Side&#x27;])])),\n                (&#x27;dropduplicatefeatures&#x27;, DropDuplicateFeatures()),\n                (&#x27;knnimputer&#x27;, KNNImputer()),\n                (&#x27;outlier_detector&#x27;,\n                 FunctionSampler(func=&lt;function handle_outliers at 0x00000207CBCB49D0&gt;)),\n                (&#x27;classification&#x27;, DummyClassifier())])</pre><b>In a Jupyter environment, please rerun this cell to show the HTML representation or trust the notebook. <br />On GitHub, the HTML representation is unable to render, please try loading this page with nbviewer.org.</b></div><div class=\"sk-container\" hidden><div class=\"sk-item sk-dashed-wrapped\"><div class=\"sk-label-container\"><div class=\"sk-label sk-toggleable\"><input class=\"sk-toggleable__control sk-hidden--visually\" id=\"sk-estimator-id-100\" type=\"checkbox\" ><label for=\"sk-estimator-id-100\" class=\"sk-toggleable__label sk-toggleable__label-arrow\">Pipeline</label><div class=\"sk-toggleable__content\"><pre>Pipeline(steps=[(&#x27;columntransformer&#x27;,\n                 ColumnTransformer(remainder=&#x27;passthrough&#x27;,\n                                   transformers=[(&#x27;handle_numeric_columns&#x27;,\n                                                  Pipeline(steps=[(&#x27;scaling&#x27;,\n                                                                   StandardScaler()),\n                                                                  (&#x27;drop_correlations&#x27;,\n                                                                   DropCorrelatedFeatures())]),\n                                                  [&#x27;Age&#x27;, &#x27;RoomService&#x27;,\n                                                   &#x27;FoodCourt&#x27;, &#x27;ShoppingMall&#x27;,\n                                                   &#x27;Spa&#x27;, &#x27;VRDeck&#x27;, &#x27;Num&#x27;,\n                                                   &#x27;Group&#x27;]),\n                                                 (&#x27;category_columns_encoding&#x27;,\n                                                  OrdinalEncoder(handle_unknown...\n                                                  [&#x27;HomePlanet&#x27;, &#x27;Destination&#x27;,\n                                                   &#x27;Deck&#x27;]),\n                                                 (&#x27;binary_columns_encoding&#x27;,\n                                                  OneHotEncoder(drop=&#x27;first&#x27;,\n                                                                handle_unknown=&#x27;ignore&#x27;),\n                                                  [&#x27;CryoSleep&#x27;, &#x27;VIP&#x27;,\n                                                   &#x27;Side&#x27;])])),\n                (&#x27;dropduplicatefeatures&#x27;, DropDuplicateFeatures()),\n                (&#x27;knnimputer&#x27;, KNNImputer()),\n                (&#x27;outlier_detector&#x27;,\n                 FunctionSampler(func=&lt;function handle_outliers at 0x00000207CBCB49D0&gt;)),\n                (&#x27;classification&#x27;, DummyClassifier())])</pre></div></div></div><div class=\"sk-serial\"><div class=\"sk-item sk-dashed-wrapped\"><div class=\"sk-label-container\"><div class=\"sk-label sk-toggleable\"><input class=\"sk-toggleable__control sk-hidden--visually\" id=\"sk-estimator-id-101\" type=\"checkbox\" ><label for=\"sk-estimator-id-101\" class=\"sk-toggleable__label sk-toggleable__label-arrow\">columntransformer: ColumnTransformer</label><div class=\"sk-toggleable__content\"><pre>ColumnTransformer(remainder=&#x27;passthrough&#x27;,\n                  transformers=[(&#x27;handle_numeric_columns&#x27;,\n                                 Pipeline(steps=[(&#x27;scaling&#x27;, StandardScaler()),\n                                                 (&#x27;drop_correlations&#x27;,\n                                                  DropCorrelatedFeatures())]),\n                                 [&#x27;Age&#x27;, &#x27;RoomService&#x27;, &#x27;FoodCourt&#x27;,\n                                  &#x27;ShoppingMall&#x27;, &#x27;Spa&#x27;, &#x27;VRDeck&#x27;, &#x27;Num&#x27;,\n                                  &#x27;Group&#x27;]),\n                                (&#x27;category_columns_encoding&#x27;,\n                                 OrdinalEncoder(handle_unknown=&#x27;use_encoded_value&#x27;,\n                                                unknown_value=-1),\n                                 [&#x27;HomePlanet&#x27;, &#x27;Destination&#x27;, &#x27;Deck&#x27;]),\n                                (&#x27;binary_columns_encoding&#x27;,\n                                 OneHotEncoder(drop=&#x27;first&#x27;,\n                                               handle_unknown=&#x27;ignore&#x27;),\n                                 [&#x27;CryoSleep&#x27;, &#x27;VIP&#x27;, &#x27;Side&#x27;])])</pre></div></div></div><div class=\"sk-parallel\"><div class=\"sk-parallel-item\"><div class=\"sk-item\"><div class=\"sk-label-container\"><div class=\"sk-label sk-toggleable\"><input class=\"sk-toggleable__control sk-hidden--visually\" id=\"sk-estimator-id-102\" type=\"checkbox\" ><label for=\"sk-estimator-id-102\" class=\"sk-toggleable__label sk-toggleable__label-arrow\">handle_numeric_columns</label><div class=\"sk-toggleable__content\"><pre>[&#x27;Age&#x27;, &#x27;RoomService&#x27;, &#x27;FoodCourt&#x27;, &#x27;ShoppingMall&#x27;, &#x27;Spa&#x27;, &#x27;VRDeck&#x27;, &#x27;Num&#x27;, &#x27;Group&#x27;]</pre></div></div></div><div class=\"sk-serial\"><div class=\"sk-item\"><div class=\"sk-serial\"><div class=\"sk-item\"><div class=\"sk-estimator sk-toggleable\"><input class=\"sk-toggleable__control sk-hidden--visually\" id=\"sk-estimator-id-103\" type=\"checkbox\" ><label for=\"sk-estimator-id-103\" class=\"sk-toggleable__label sk-toggleable__label-arrow\">StandardScaler</label><div class=\"sk-toggleable__content\"><pre>StandardScaler()</pre></div></div></div><div class=\"sk-item\"><div class=\"sk-estimator sk-toggleable\"><input class=\"sk-toggleable__control sk-hidden--visually\" id=\"sk-estimator-id-104\" type=\"checkbox\" ><label for=\"sk-estimator-id-104\" class=\"sk-toggleable__label sk-toggleable__label-arrow\">DropCorrelatedFeatures</label><div class=\"sk-toggleable__content\"><pre>DropCorrelatedFeatures()</pre></div></div></div></div></div></div></div></div><div class=\"sk-parallel-item\"><div class=\"sk-item\"><div class=\"sk-label-container\"><div class=\"sk-label sk-toggleable\"><input class=\"sk-toggleable__control sk-hidden--visually\" id=\"sk-estimator-id-105\" type=\"checkbox\" ><label for=\"sk-estimator-id-105\" class=\"sk-toggleable__label sk-toggleable__label-arrow\">category_columns_encoding</label><div class=\"sk-toggleable__content\"><pre>[&#x27;HomePlanet&#x27;, &#x27;Destination&#x27;, &#x27;Deck&#x27;]</pre></div></div></div><div class=\"sk-serial\"><div class=\"sk-item\"><div class=\"sk-estimator sk-toggleable\"><input class=\"sk-toggleable__control sk-hidden--visually\" id=\"sk-estimator-id-106\" type=\"checkbox\" ><label for=\"sk-estimator-id-106\" class=\"sk-toggleable__label sk-toggleable__label-arrow\">OrdinalEncoder</label><div class=\"sk-toggleable__content\"><pre>OrdinalEncoder(handle_unknown=&#x27;use_encoded_value&#x27;, unknown_value=-1)</pre></div></div></div></div></div></div><div class=\"sk-parallel-item\"><div class=\"sk-item\"><div class=\"sk-label-container\"><div class=\"sk-label sk-toggleable\"><input class=\"sk-toggleable__control sk-hidden--visually\" id=\"sk-estimator-id-107\" type=\"checkbox\" ><label for=\"sk-estimator-id-107\" class=\"sk-toggleable__label sk-toggleable__label-arrow\">binary_columns_encoding</label><div class=\"sk-toggleable__content\"><pre>[&#x27;CryoSleep&#x27;, &#x27;VIP&#x27;, &#x27;Side&#x27;]</pre></div></div></div><div class=\"sk-serial\"><div class=\"sk-item\"><div class=\"sk-estimator sk-toggleable\"><input class=\"sk-toggleable__control sk-hidden--visually\" id=\"sk-estimator-id-108\" type=\"checkbox\" ><label for=\"sk-estimator-id-108\" class=\"sk-toggleable__label sk-toggleable__label-arrow\">OneHotEncoder</label><div class=\"sk-toggleable__content\"><pre>OneHotEncoder(drop=&#x27;first&#x27;, handle_unknown=&#x27;ignore&#x27;)</pre></div></div></div></div></div></div><div class=\"sk-parallel-item\"><div class=\"sk-item\"><div class=\"sk-label-container\"><div class=\"sk-label sk-toggleable\"><input class=\"sk-toggleable__control sk-hidden--visually\" id=\"sk-estimator-id-109\" type=\"checkbox\" ><label for=\"sk-estimator-id-109\" class=\"sk-toggleable__label sk-toggleable__label-arrow\">remainder</label><div class=\"sk-toggleable__content\"><pre></pre></div></div></div><div class=\"sk-serial\"><div class=\"sk-item\"><div class=\"sk-estimator sk-toggleable\"><input class=\"sk-toggleable__control sk-hidden--visually\" id=\"sk-estimator-id-110\" type=\"checkbox\" ><label for=\"sk-estimator-id-110\" class=\"sk-toggleable__label sk-toggleable__label-arrow\">passthrough</label><div class=\"sk-toggleable__content\"><pre>passthrough</pre></div></div></div></div></div></div></div></div><div class=\"sk-item\"><div class=\"sk-estimator sk-toggleable\"><input class=\"sk-toggleable__control sk-hidden--visually\" id=\"sk-estimator-id-111\" type=\"checkbox\" ><label for=\"sk-estimator-id-111\" class=\"sk-toggleable__label sk-toggleable__label-arrow\">DropDuplicateFeatures</label><div class=\"sk-toggleable__content\"><pre>DropDuplicateFeatures()</pre></div></div></div><div class=\"sk-item\"><div class=\"sk-estimator sk-toggleable\"><input class=\"sk-toggleable__control sk-hidden--visually\" id=\"sk-estimator-id-112\" type=\"checkbox\" ><label for=\"sk-estimator-id-112\" class=\"sk-toggleable__label sk-toggleable__label-arrow\">KNNImputer</label><div class=\"sk-toggleable__content\"><pre>KNNImputer()</pre></div></div></div><div class=\"sk-item\"><div class=\"sk-estimator sk-toggleable\"><input class=\"sk-toggleable__control sk-hidden--visually\" id=\"sk-estimator-id-113\" type=\"checkbox\" ><label for=\"sk-estimator-id-113\" class=\"sk-toggleable__label sk-toggleable__label-arrow\">FunctionSampler</label><div class=\"sk-toggleable__content\"><pre>FunctionSampler(func=&lt;function handle_outliers at 0x00000207CBCB49D0&gt;)</pre></div></div></div><div class=\"sk-item\"><div class=\"sk-estimator sk-toggleable\"><input class=\"sk-toggleable__control sk-hidden--visually\" id=\"sk-estimator-id-114\" type=\"checkbox\" ><label for=\"sk-estimator-id-114\" class=\"sk-toggleable__label sk-toggleable__label-arrow\">DummyClassifier</label><div class=\"sk-toggleable__content\"><pre>DummyClassifier()</pre></div></div></div></div></div></div></div>"
     },
     "execution_count": 109,
     "metadata": {},
     "output_type": "execute_result"
    }
   ],
   "source": [
    "# Добавим обработку выбросов и шаг для модели классификатора\n",
    "def handle_outliers(features, target):\n",
    "    outlier_index =  LocalOutlierFactor().fit_predict(features)\n",
    "    return features[outlier_index == 1], target[outlier_index == 1]\n",
    "\n",
    "pipeline.steps.append(('outlier_detector', FunctionSampler(func=handle_outliers)))\n",
    "pipeline.steps.append(('classification', DummyClassifier()))\n",
    "pipeline"
   ],
   "metadata": {
    "collapsed": false
   }
  },
  {
   "cell_type": "code",
   "execution_count": 110,
   "outputs": [
    {
     "data": {
      "text/plain": "[('columntransformer',\n  ColumnTransformer(remainder='passthrough',\n                    transformers=[('handle_numeric_columns',\n                                   Pipeline(steps=[('scaling', StandardScaler()),\n                                                   ('drop_correlations',\n                                                    DropCorrelatedFeatures())]),\n                                   ['Age', 'RoomService', 'FoodCourt',\n                                    'ShoppingMall', 'Spa', 'VRDeck', 'Num',\n                                    'Group']),\n                                  ('category_columns_encoding',\n                                   OrdinalEncoder(handle_unknown='use_encoded_value',\n                                                  unknown_value=-1),\n                                   ['HomePlanet', 'Destination', 'Deck']),\n                                  ('binary_columns_encoding',\n                                   OneHotEncoder(drop='first',\n                                                 handle_unknown='ignore'),\n                                   ['CryoSleep', 'VIP', 'Side'])])),\n ('dropduplicatefeatures', DropDuplicateFeatures()),\n ('knnimputer', KNNImputer()),\n ('outlier_detector',\n  FunctionSampler(func=<function handle_outliers at 0x00000207CBCB49D0>)),\n ('classification', DummyClassifier())]"
     },
     "execution_count": 110,
     "metadata": {},
     "output_type": "execute_result"
    }
   ],
   "source": [
    "# Посмотри на шаги получившегося пайплайна\n",
    "pipeline.steps"
   ],
   "metadata": {
    "collapsed": false
   }
  },
  {
   "cell_type": "code",
   "execution_count": 111,
   "outputs": [],
   "source": [
    "# Опишем и зададим параметры для RandomizedSearchCV\n",
    "def create_randomized_search_cv(pipeline, iterations_count, parameters=None):\n",
    "    if parameters is None:\n",
    "        params = [\n",
    "            {\n",
    "                'classification': [RandomForestClassifier()],\n",
    "                'classification__n_estimators': [2,10,100,200,300],\n",
    "                'classification__max_depth': [3,5,15,25,50],\n",
    "                'columntransformer__handle_numeric_columns__scaling': [None],\n",
    "                'knnimputer': [KNNImputer(), IterativeImputer()]\n",
    "            },\n",
    "            {\n",
    "                'classification': [CatBoostClassifier(verbose=1)],\n",
    "                'classification__n_estimators': [2,10,100,200,300],\n",
    "                'classification__max_depth': [3,5,15,16],\n",
    "                'columntransformer__handle_numeric_columns__scaling': [None],\n",
    "                'knnimputer': [KNNImputer(), IterativeImputer()]\n",
    "            },\n",
    "            {\n",
    "                'classification': [svm.SVC()],\n",
    "                'classification__kernel': ['sigmoid', 'rbf', 'poly'],\n",
    "                'classification__gamma': ['auto', 'scale'],\n",
    "                'classification__degree': [3,6],\n",
    "                'columntransformer__handle_numeric_columns__scaling': [MinMaxScaler(), StandardScaler()],\n",
    "                'knnimputer': [KNNImputer(), IterativeImputer()]\n",
    "            },\n",
    "            {\n",
    "                'classification': [LGBMClassifier(n_jobs=-1)],\n",
    "                'classification__n_estimators': [100,200,300],\n",
    "                'classification__num_leaves': [31,50,100,200],\n",
    "                'columntransformer__handle_numeric_columns__scaling': [None],\n",
    "                'knnimputer': [KNNImputer(), IterativeImputer()]\n",
    "            }\n",
    "        ]\n",
    "    else:\n",
    "        params = parameters\n",
    "\n",
    "    grid = RandomizedSearchCV(pipeline,\n",
    "                              params,\n",
    "                              n_iter = iterations_count,\n",
    "                              cv = 5,\n",
    "                              verbose = 1,\n",
    "                              scoring = 'roc_auc',\n",
    "                              n_jobs=-1)\n",
    "\n",
    "    return grid\n"
   ],
   "metadata": {
    "collapsed": false
   }
  },
  {
   "cell_type": "code",
   "execution_count": 112,
   "outputs": [],
   "source": [
    "grid = create_randomized_search_cv(pipeline, 30)"
   ],
   "metadata": {
    "collapsed": false
   }
  },
  {
   "cell_type": "code",
   "execution_count": 113,
   "outputs": [
    {
     "name": "stdout",
     "output_type": "stream",
     "text": [
      "Fitting 5 folds for each of 30 candidates, totalling 150 fits\n",
      "Learning rate set to 0.09953\n",
      "0:\tlearn: 0.6489619\ttotal: 269ms\tremaining: 53.6s\n",
      "1:\tlearn: 0.6123374\ttotal: 279ms\tremaining: 27.7s\n",
      "2:\tlearn: 0.5823363\ttotal: 289ms\tremaining: 19s\n",
      "3:\tlearn: 0.5595224\ttotal: 296ms\tremaining: 14.5s\n",
      "4:\tlearn: 0.5447406\ttotal: 306ms\tremaining: 11.9s\n",
      "5:\tlearn: 0.5287047\ttotal: 315ms\tremaining: 10.2s\n",
      "6:\tlearn: 0.5150441\ttotal: 322ms\tremaining: 8.87s\n",
      "7:\tlearn: 0.5037925\ttotal: 329ms\tremaining: 7.89s\n",
      "8:\tlearn: 0.4936685\ttotal: 336ms\tremaining: 7.13s\n",
      "9:\tlearn: 0.4853044\ttotal: 343ms\tremaining: 6.52s\n",
      "10:\tlearn: 0.4810834\ttotal: 350ms\tremaining: 6.01s\n",
      "11:\tlearn: 0.4750914\ttotal: 360ms\tremaining: 5.64s\n",
      "12:\tlearn: 0.4691350\ttotal: 368ms\tremaining: 5.29s\n",
      "13:\tlearn: 0.4635202\ttotal: 375ms\tremaining: 4.98s\n",
      "14:\tlearn: 0.4586972\ttotal: 382ms\tremaining: 4.71s\n",
      "15:\tlearn: 0.4530156\ttotal: 389ms\tremaining: 4.47s\n",
      "16:\tlearn: 0.4505324\ttotal: 396ms\tremaining: 4.26s\n",
      "17:\tlearn: 0.4470521\ttotal: 403ms\tremaining: 4.08s\n",
      "18:\tlearn: 0.4449154\ttotal: 410ms\tremaining: 3.91s\n",
      "19:\tlearn: 0.4414147\ttotal: 417ms\tremaining: 3.75s\n",
      "20:\tlearn: 0.4394501\ttotal: 424ms\tremaining: 3.62s\n",
      "21:\tlearn: 0.4364627\ttotal: 432ms\tremaining: 3.49s\n",
      "22:\tlearn: 0.4339832\ttotal: 439ms\tremaining: 3.38s\n",
      "23:\tlearn: 0.4318181\ttotal: 446ms\tremaining: 3.27s\n",
      "24:\tlearn: 0.4285222\ttotal: 453ms\tremaining: 3.17s\n",
      "25:\tlearn: 0.4261869\ttotal: 460ms\tremaining: 3.08s\n",
      "26:\tlearn: 0.4243322\ttotal: 469ms\tremaining: 3s\n",
      "27:\tlearn: 0.4232572\ttotal: 476ms\tremaining: 2.92s\n",
      "28:\tlearn: 0.4211875\ttotal: 483ms\tremaining: 2.85s\n",
      "29:\tlearn: 0.4191568\ttotal: 490ms\tremaining: 2.78s\n",
      "30:\tlearn: 0.4177393\ttotal: 502ms\tremaining: 2.73s\n",
      "31:\tlearn: 0.4166940\ttotal: 520ms\tremaining: 2.73s\n",
      "32:\tlearn: 0.4150356\ttotal: 548ms\tremaining: 2.77s\n",
      "33:\tlearn: 0.4135601\ttotal: 559ms\tremaining: 2.73s\n",
      "34:\tlearn: 0.4122747\ttotal: 584ms\tremaining: 2.75s\n",
      "35:\tlearn: 0.4113034\ttotal: 593ms\tremaining: 2.7s\n",
      "36:\tlearn: 0.4093183\ttotal: 625ms\tremaining: 2.75s\n",
      "37:\tlearn: 0.4083522\ttotal: 668ms\tremaining: 2.85s\n",
      "38:\tlearn: 0.4067138\ttotal: 677ms\tremaining: 2.79s\n",
      "39:\tlearn: 0.4052170\ttotal: 689ms\tremaining: 2.76s\n",
      "40:\tlearn: 0.4045145\ttotal: 699ms\tremaining: 2.71s\n",
      "41:\tlearn: 0.4034598\ttotal: 707ms\tremaining: 2.66s\n",
      "42:\tlearn: 0.4024763\ttotal: 714ms\tremaining: 2.61s\n",
      "43:\tlearn: 0.4011733\ttotal: 721ms\tremaining: 2.56s\n",
      "44:\tlearn: 0.4005715\ttotal: 730ms\tremaining: 2.51s\n",
      "45:\tlearn: 0.3996382\ttotal: 737ms\tremaining: 2.47s\n",
      "46:\tlearn: 0.3989002\ttotal: 744ms\tremaining: 2.42s\n",
      "47:\tlearn: 0.3975792\ttotal: 752ms\tremaining: 2.38s\n",
      "48:\tlearn: 0.3971566\ttotal: 759ms\tremaining: 2.34s\n",
      "49:\tlearn: 0.3965167\ttotal: 766ms\tremaining: 2.3s\n",
      "50:\tlearn: 0.3957090\ttotal: 773ms\tremaining: 2.26s\n",
      "51:\tlearn: 0.3944707\ttotal: 781ms\tremaining: 2.22s\n",
      "52:\tlearn: 0.3935446\ttotal: 788ms\tremaining: 2.19s\n",
      "53:\tlearn: 0.3929862\ttotal: 795ms\tremaining: 2.15s\n",
      "54:\tlearn: 0.3918650\ttotal: 802ms\tremaining: 2.11s\n",
      "55:\tlearn: 0.3914101\ttotal: 809ms\tremaining: 2.08s\n",
      "56:\tlearn: 0.3901954\ttotal: 817ms\tremaining: 2.05s\n",
      "57:\tlearn: 0.3895242\ttotal: 824ms\tremaining: 2.02s\n",
      "58:\tlearn: 0.3871619\ttotal: 832ms\tremaining: 1.99s\n",
      "59:\tlearn: 0.3866125\ttotal: 839ms\tremaining: 1.96s\n",
      "60:\tlearn: 0.3861075\ttotal: 846ms\tremaining: 1.93s\n",
      "61:\tlearn: 0.3856312\ttotal: 853ms\tremaining: 1.9s\n",
      "62:\tlearn: 0.3844812\ttotal: 861ms\tremaining: 1.87s\n",
      "63:\tlearn: 0.3841585\ttotal: 869ms\tremaining: 1.85s\n",
      "64:\tlearn: 0.3836349\ttotal: 877ms\tremaining: 1.82s\n",
      "65:\tlearn: 0.3820417\ttotal: 884ms\tremaining: 1.79s\n",
      "66:\tlearn: 0.3815258\ttotal: 895ms\tremaining: 1.78s\n",
      "67:\tlearn: 0.3802188\ttotal: 906ms\tremaining: 1.76s\n",
      "68:\tlearn: 0.3797892\ttotal: 913ms\tremaining: 1.73s\n",
      "69:\tlearn: 0.3792281\ttotal: 921ms\tremaining: 1.71s\n",
      "70:\tlearn: 0.3787297\ttotal: 929ms\tremaining: 1.69s\n",
      "71:\tlearn: 0.3780566\ttotal: 937ms\tremaining: 1.67s\n",
      "72:\tlearn: 0.3774642\ttotal: 944ms\tremaining: 1.64s\n",
      "73:\tlearn: 0.3771175\ttotal: 951ms\tremaining: 1.62s\n",
      "74:\tlearn: 0.3766208\ttotal: 958ms\tremaining: 1.6s\n",
      "75:\tlearn: 0.3762262\ttotal: 965ms\tremaining: 1.57s\n",
      "76:\tlearn: 0.3756749\ttotal: 973ms\tremaining: 1.55s\n",
      "77:\tlearn: 0.3750903\ttotal: 981ms\tremaining: 1.53s\n",
      "78:\tlearn: 0.3744919\ttotal: 988ms\tremaining: 1.51s\n",
      "79:\tlearn: 0.3740876\ttotal: 995ms\tremaining: 1.49s\n",
      "80:\tlearn: 0.3724829\ttotal: 1s\tremaining: 1.47s\n",
      "81:\tlearn: 0.3720824\ttotal: 1.01s\tremaining: 1.45s\n",
      "82:\tlearn: 0.3716998\ttotal: 1.02s\tremaining: 1.43s\n",
      "83:\tlearn: 0.3712995\ttotal: 1.02s\tremaining: 1.41s\n",
      "84:\tlearn: 0.3710669\ttotal: 1.03s\tremaining: 1.39s\n",
      "85:\tlearn: 0.3704459\ttotal: 1.04s\tremaining: 1.38s\n",
      "86:\tlearn: 0.3700214\ttotal: 1.04s\tremaining: 1.36s\n",
      "87:\tlearn: 0.3697873\ttotal: 1.05s\tremaining: 1.34s\n",
      "88:\tlearn: 0.3693684\ttotal: 1.06s\tremaining: 1.32s\n",
      "89:\tlearn: 0.3690049\ttotal: 1.07s\tremaining: 1.31s\n",
      "90:\tlearn: 0.3686876\ttotal: 1.07s\tremaining: 1.29s\n",
      "91:\tlearn: 0.3683100\ttotal: 1.08s\tremaining: 1.27s\n",
      "92:\tlearn: 0.3677447\ttotal: 1.09s\tremaining: 1.26s\n",
      "93:\tlearn: 0.3667713\ttotal: 1.1s\tremaining: 1.24s\n",
      "94:\tlearn: 0.3659299\ttotal: 1.11s\tremaining: 1.23s\n",
      "95:\tlearn: 0.3653295\ttotal: 1.12s\tremaining: 1.21s\n",
      "96:\tlearn: 0.3647635\ttotal: 1.13s\tremaining: 1.2s\n",
      "97:\tlearn: 0.3643929\ttotal: 1.13s\tremaining: 1.18s\n",
      "98:\tlearn: 0.3639318\ttotal: 1.14s\tremaining: 1.16s\n",
      "99:\tlearn: 0.3632157\ttotal: 1.15s\tremaining: 1.15s\n",
      "100:\tlearn: 0.3628573\ttotal: 1.15s\tremaining: 1.13s\n",
      "101:\tlearn: 0.3626559\ttotal: 1.16s\tremaining: 1.12s\n",
      "102:\tlearn: 0.3620973\ttotal: 1.17s\tremaining: 1.1s\n",
      "103:\tlearn: 0.3615391\ttotal: 1.18s\tremaining: 1.09s\n",
      "104:\tlearn: 0.3608513\ttotal: 1.19s\tremaining: 1.07s\n",
      "105:\tlearn: 0.3600369\ttotal: 1.19s\tremaining: 1.06s\n",
      "106:\tlearn: 0.3596299\ttotal: 1.2s\tremaining: 1.04s\n",
      "107:\tlearn: 0.3591702\ttotal: 1.21s\tremaining: 1.03s\n",
      "108:\tlearn: 0.3587542\ttotal: 1.22s\tremaining: 1.01s\n",
      "109:\tlearn: 0.3578236\ttotal: 1.22s\tremaining: 1s\n",
      "110:\tlearn: 0.3575159\ttotal: 1.23s\tremaining: 986ms\n",
      "111:\tlearn: 0.3570083\ttotal: 1.24s\tremaining: 972ms\n",
      "112:\tlearn: 0.3565878\ttotal: 1.24s\tremaining: 958ms\n",
      "113:\tlearn: 0.3560947\ttotal: 1.25s\tremaining: 944ms\n",
      "114:\tlearn: 0.3555434\ttotal: 1.26s\tremaining: 932ms\n",
      "115:\tlearn: 0.3551471\ttotal: 1.27s\tremaining: 918ms\n",
      "116:\tlearn: 0.3548023\ttotal: 1.27s\tremaining: 904ms\n",
      "117:\tlearn: 0.3540495\ttotal: 1.28s\tremaining: 891ms\n",
      "118:\tlearn: 0.3535945\ttotal: 1.29s\tremaining: 878ms\n",
      "119:\tlearn: 0.3533210\ttotal: 1.3s\tremaining: 865ms\n",
      "120:\tlearn: 0.3529861\ttotal: 1.3s\tremaining: 852ms\n",
      "121:\tlearn: 0.3524375\ttotal: 1.31s\tremaining: 838ms\n",
      "122:\tlearn: 0.3518194\ttotal: 1.32s\tremaining: 825ms\n",
      "123:\tlearn: 0.3513990\ttotal: 1.32s\tremaining: 812ms\n",
      "124:\tlearn: 0.3509087\ttotal: 1.33s\tremaining: 798ms\n",
      "125:\tlearn: 0.3505337\ttotal: 1.34s\tremaining: 785ms\n",
      "126:\tlearn: 0.3495181\ttotal: 1.34s\tremaining: 773ms\n",
      "127:\tlearn: 0.3490457\ttotal: 1.35s\tremaining: 760ms\n",
      "128:\tlearn: 0.3485850\ttotal: 1.36s\tremaining: 748ms\n",
      "129:\tlearn: 0.3482520\ttotal: 1.36s\tremaining: 735ms\n",
      "130:\tlearn: 0.3477698\ttotal: 1.37s\tremaining: 722ms\n",
      "131:\tlearn: 0.3472458\ttotal: 1.38s\tremaining: 710ms\n",
      "132:\tlearn: 0.3467355\ttotal: 1.38s\tremaining: 697ms\n",
      "133:\tlearn: 0.3463934\ttotal: 1.39s\tremaining: 685ms\n",
      "134:\tlearn: 0.3459082\ttotal: 1.4s\tremaining: 673ms\n",
      "135:\tlearn: 0.3456679\ttotal: 1.4s\tremaining: 661ms\n",
      "136:\tlearn: 0.3451616\ttotal: 1.41s\tremaining: 649ms\n",
      "137:\tlearn: 0.3446664\ttotal: 1.42s\tremaining: 637ms\n",
      "138:\tlearn: 0.3440033\ttotal: 1.42s\tremaining: 625ms\n",
      "139:\tlearn: 0.3435221\ttotal: 1.43s\tremaining: 613ms\n",
      "140:\tlearn: 0.3429718\ttotal: 1.44s\tremaining: 601ms\n",
      "141:\tlearn: 0.3425138\ttotal: 1.44s\tremaining: 589ms\n",
      "142:\tlearn: 0.3421058\ttotal: 1.45s\tremaining: 578ms\n",
      "143:\tlearn: 0.3417415\ttotal: 1.46s\tremaining: 567ms\n",
      "144:\tlearn: 0.3414691\ttotal: 1.47s\tremaining: 556ms\n",
      "145:\tlearn: 0.3413427\ttotal: 1.47s\tremaining: 544ms\n",
      "146:\tlearn: 0.3408322\ttotal: 1.48s\tremaining: 533ms\n",
      "147:\tlearn: 0.3404173\ttotal: 1.48s\tremaining: 522ms\n",
      "148:\tlearn: 0.3402240\ttotal: 1.49s\tremaining: 510ms\n",
      "149:\tlearn: 0.3397698\ttotal: 1.5s\tremaining: 499ms\n",
      "150:\tlearn: 0.3392976\ttotal: 1.5s\tremaining: 488ms\n",
      "151:\tlearn: 0.3388366\ttotal: 1.51s\tremaining: 477ms\n",
      "152:\tlearn: 0.3383017\ttotal: 1.52s\tremaining: 466ms\n",
      "153:\tlearn: 0.3380603\ttotal: 1.52s\tremaining: 455ms\n",
      "154:\tlearn: 0.3374306\ttotal: 1.53s\tremaining: 444ms\n",
      "155:\tlearn: 0.3367436\ttotal: 1.53s\tremaining: 433ms\n",
      "156:\tlearn: 0.3363998\ttotal: 1.54s\tremaining: 422ms\n",
      "157:\tlearn: 0.3358331\ttotal: 1.55s\tremaining: 412ms\n",
      "158:\tlearn: 0.3354748\ttotal: 1.55s\tremaining: 401ms\n",
      "159:\tlearn: 0.3351118\ttotal: 1.56s\tremaining: 390ms\n",
      "160:\tlearn: 0.3347612\ttotal: 1.57s\tremaining: 380ms\n",
      "161:\tlearn: 0.3344312\ttotal: 1.57s\tremaining: 369ms\n",
      "162:\tlearn: 0.3338945\ttotal: 1.58s\tremaining: 359ms\n",
      "163:\tlearn: 0.3335468\ttotal: 1.58s\tremaining: 348ms\n",
      "164:\tlearn: 0.3330478\ttotal: 1.59s\tremaining: 338ms\n",
      "165:\tlearn: 0.3326561\ttotal: 1.6s\tremaining: 327ms\n",
      "166:\tlearn: 0.3323688\ttotal: 1.6s\tremaining: 317ms\n",
      "167:\tlearn: 0.3320861\ttotal: 1.61s\tremaining: 307ms\n",
      "168:\tlearn: 0.3318064\ttotal: 1.62s\tremaining: 296ms\n",
      "169:\tlearn: 0.3313879\ttotal: 1.62s\tremaining: 286ms\n",
      "170:\tlearn: 0.3310458\ttotal: 1.63s\tremaining: 276ms\n",
      "171:\tlearn: 0.3306582\ttotal: 1.63s\tremaining: 266ms\n",
      "172:\tlearn: 0.3304882\ttotal: 1.64s\tremaining: 256ms\n",
      "173:\tlearn: 0.3300674\ttotal: 1.65s\tremaining: 246ms\n",
      "174:\tlearn: 0.3299135\ttotal: 1.65s\tremaining: 236ms\n",
      "175:\tlearn: 0.3295137\ttotal: 1.66s\tremaining: 226ms\n",
      "176:\tlearn: 0.3291246\ttotal: 1.67s\tremaining: 217ms\n",
      "177:\tlearn: 0.3287166\ttotal: 1.67s\tremaining: 207ms\n",
      "178:\tlearn: 0.3283701\ttotal: 1.68s\tremaining: 197ms\n",
      "179:\tlearn: 0.3280061\ttotal: 1.69s\tremaining: 188ms\n",
      "180:\tlearn: 0.3276093\ttotal: 1.7s\tremaining: 178ms\n",
      "181:\tlearn: 0.3272111\ttotal: 1.71s\tremaining: 169ms\n",
      "182:\tlearn: 0.3268498\ttotal: 1.71s\tremaining: 159ms\n",
      "183:\tlearn: 0.3266399\ttotal: 1.72s\tremaining: 150ms\n",
      "184:\tlearn: 0.3261366\ttotal: 1.73s\tremaining: 140ms\n",
      "185:\tlearn: 0.3257164\ttotal: 1.74s\tremaining: 131ms\n",
      "186:\tlearn: 0.3254137\ttotal: 1.74s\tremaining: 121ms\n",
      "187:\tlearn: 0.3246730\ttotal: 1.75s\tremaining: 112ms\n",
      "188:\tlearn: 0.3244165\ttotal: 1.76s\tremaining: 102ms\n",
      "189:\tlearn: 0.3239838\ttotal: 1.76s\tremaining: 92.9ms\n",
      "190:\tlearn: 0.3235575\ttotal: 1.77s\tremaining: 83.5ms\n",
      "191:\tlearn: 0.3234505\ttotal: 1.78s\tremaining: 74.1ms\n",
      "192:\tlearn: 0.3231526\ttotal: 1.78s\tremaining: 64.7ms\n",
      "193:\tlearn: 0.3229023\ttotal: 1.79s\tremaining: 55.3ms\n",
      "194:\tlearn: 0.3227224\ttotal: 1.79s\tremaining: 46ms\n",
      "195:\tlearn: 0.3225526\ttotal: 1.8s\tremaining: 36.8ms\n",
      "196:\tlearn: 0.3222055\ttotal: 1.81s\tremaining: 27.5ms\n",
      "197:\tlearn: 0.3220423\ttotal: 1.81s\tremaining: 18.3ms\n",
      "198:\tlearn: 0.3217555\ttotal: 1.82s\tremaining: 9.15ms\n",
      "199:\tlearn: 0.3214765\ttotal: 1.83s\tremaining: 0us\n",
      "CPU times: total: 8.02 s\n",
      "Wall time: 40min 27s\n"
     ]
    },
    {
     "data": {
      "text/plain": "RandomizedSearchCV(cv=5,\n                   estimator=Pipeline(steps=[('columntransformer',\n                                              ColumnTransformer(remainder='passthrough',\n                                                                transformers=[('handle_numeric_columns',\n                                                                               Pipeline(steps=[('scaling',\n                                                                                                StandardScaler()),\n                                                                                               ('drop_correlations',\n                                                                                                DropCorrelatedFeatures())]),\n                                                                               ['Age',\n                                                                                'RoomService',\n                                                                                'FoodCourt',\n                                                                                'ShoppingMall',\n                                                                                'Spa',\n                                                                                'VRDeck',\n                                                                                'Num',\n                                                                                'Group']),\n                                                                              ('category_columns_encod...\n                                         'columntransformer__handle_numeric_columns__scaling': [MinMaxScaler(),\n                                                                                                StandardScaler()],\n                                         'knnimputer': [KNNImputer(),\n                                                        IterativeImputer()]},\n                                        {'classification': [LGBMClassifier()],\n                                         'classification__n_estimators': [100,\n                                                                          200,\n                                                                          300],\n                                         'classification__num_leaves': [31, 50,\n                                                                        100,\n                                                                        200],\n                                         'columntransformer__handle_numeric_columns__scaling': [None],\n                                         'knnimputer': [KNNImputer(),\n                                                        IterativeImputer()]}],\n                   scoring='roc_auc', verbose=1)",
      "text/html": "<style>#sk-container-id-10 {color: black;background-color: white;}#sk-container-id-10 pre{padding: 0;}#sk-container-id-10 div.sk-toggleable {background-color: white;}#sk-container-id-10 label.sk-toggleable__label {cursor: pointer;display: block;width: 100%;margin-bottom: 0;padding: 0.3em;box-sizing: border-box;text-align: center;}#sk-container-id-10 label.sk-toggleable__label-arrow:before {content: \"▸\";float: left;margin-right: 0.25em;color: #696969;}#sk-container-id-10 label.sk-toggleable__label-arrow:hover:before {color: black;}#sk-container-id-10 div.sk-estimator:hover label.sk-toggleable__label-arrow:before {color: black;}#sk-container-id-10 div.sk-toggleable__content {max-height: 0;max-width: 0;overflow: hidden;text-align: left;background-color: #f0f8ff;}#sk-container-id-10 div.sk-toggleable__content pre {margin: 0.2em;color: black;border-radius: 0.25em;background-color: #f0f8ff;}#sk-container-id-10 input.sk-toggleable__control:checked~div.sk-toggleable__content {max-height: 200px;max-width: 100%;overflow: auto;}#sk-container-id-10 input.sk-toggleable__control:checked~label.sk-toggleable__label-arrow:before {content: \"▾\";}#sk-container-id-10 div.sk-estimator input.sk-toggleable__control:checked~label.sk-toggleable__label {background-color: #d4ebff;}#sk-container-id-10 div.sk-label input.sk-toggleable__control:checked~label.sk-toggleable__label {background-color: #d4ebff;}#sk-container-id-10 input.sk-hidden--visually {border: 0;clip: rect(1px 1px 1px 1px);clip: rect(1px, 1px, 1px, 1px);height: 1px;margin: -1px;overflow: hidden;padding: 0;position: absolute;width: 1px;}#sk-container-id-10 div.sk-estimator {font-family: monospace;background-color: #f0f8ff;border: 1px dotted black;border-radius: 0.25em;box-sizing: border-box;margin-bottom: 0.5em;}#sk-container-id-10 div.sk-estimator:hover {background-color: #d4ebff;}#sk-container-id-10 div.sk-parallel-item::after {content: \"\";width: 100%;border-bottom: 1px solid gray;flex-grow: 1;}#sk-container-id-10 div.sk-label:hover label.sk-toggleable__label {background-color: #d4ebff;}#sk-container-id-10 div.sk-serial::before {content: \"\";position: absolute;border-left: 1px solid gray;box-sizing: border-box;top: 0;bottom: 0;left: 50%;z-index: 0;}#sk-container-id-10 div.sk-serial {display: flex;flex-direction: column;align-items: center;background-color: white;padding-right: 0.2em;padding-left: 0.2em;position: relative;}#sk-container-id-10 div.sk-item {position: relative;z-index: 1;}#sk-container-id-10 div.sk-parallel {display: flex;align-items: stretch;justify-content: center;background-color: white;position: relative;}#sk-container-id-10 div.sk-item::before, #sk-container-id-10 div.sk-parallel-item::before {content: \"\";position: absolute;border-left: 1px solid gray;box-sizing: border-box;top: 0;bottom: 0;left: 50%;z-index: -1;}#sk-container-id-10 div.sk-parallel-item {display: flex;flex-direction: column;z-index: 1;position: relative;background-color: white;}#sk-container-id-10 div.sk-parallel-item:first-child::after {align-self: flex-end;width: 50%;}#sk-container-id-10 div.sk-parallel-item:last-child::after {align-self: flex-start;width: 50%;}#sk-container-id-10 div.sk-parallel-item:only-child::after {width: 0;}#sk-container-id-10 div.sk-dashed-wrapped {border: 1px dashed gray;margin: 0 0.4em 0.5em 0.4em;box-sizing: border-box;padding-bottom: 0.4em;background-color: white;}#sk-container-id-10 div.sk-label label {font-family: monospace;font-weight: bold;display: inline-block;line-height: 1.2em;}#sk-container-id-10 div.sk-label-container {text-align: center;}#sk-container-id-10 div.sk-container {/* jupyter's `normalize.less` sets `[hidden] { display: none; }` but bootstrap.min.css set `[hidden] { display: none !important; }` so we also need the `!important` here to be able to override the default hidden behavior on the sphinx rendered scikit-learn.org. See: https://github.com/scikit-learn/scikit-learn/issues/21755 */display: inline-block !important;position: relative;}#sk-container-id-10 div.sk-text-repr-fallback {display: none;}</style><div id=\"sk-container-id-10\" class=\"sk-top-container\"><div class=\"sk-text-repr-fallback\"><pre>RandomizedSearchCV(cv=5,\n                   estimator=Pipeline(steps=[(&#x27;columntransformer&#x27;,\n                                              ColumnTransformer(remainder=&#x27;passthrough&#x27;,\n                                                                transformers=[(&#x27;handle_numeric_columns&#x27;,\n                                                                               Pipeline(steps=[(&#x27;scaling&#x27;,\n                                                                                                StandardScaler()),\n                                                                                               (&#x27;drop_correlations&#x27;,\n                                                                                                DropCorrelatedFeatures())]),\n                                                                               [&#x27;Age&#x27;,\n                                                                                &#x27;RoomService&#x27;,\n                                                                                &#x27;FoodCourt&#x27;,\n                                                                                &#x27;ShoppingMall&#x27;,\n                                                                                &#x27;Spa&#x27;,\n                                                                                &#x27;VRDeck&#x27;,\n                                                                                &#x27;Num&#x27;,\n                                                                                &#x27;Group&#x27;]),\n                                                                              (&#x27;category_columns_encod...\n                                         &#x27;columntransformer__handle_numeric_columns__scaling&#x27;: [MinMaxScaler(),\n                                                                                                StandardScaler()],\n                                         &#x27;knnimputer&#x27;: [KNNImputer(),\n                                                        IterativeImputer()]},\n                                        {&#x27;classification&#x27;: [LGBMClassifier()],\n                                         &#x27;classification__n_estimators&#x27;: [100,\n                                                                          200,\n                                                                          300],\n                                         &#x27;classification__num_leaves&#x27;: [31, 50,\n                                                                        100,\n                                                                        200],\n                                         &#x27;columntransformer__handle_numeric_columns__scaling&#x27;: [None],\n                                         &#x27;knnimputer&#x27;: [KNNImputer(),\n                                                        IterativeImputer()]}],\n                   scoring=&#x27;roc_auc&#x27;, verbose=1)</pre><b>In a Jupyter environment, please rerun this cell to show the HTML representation or trust the notebook. <br />On GitHub, the HTML representation is unable to render, please try loading this page with nbviewer.org.</b></div><div class=\"sk-container\" hidden><div class=\"sk-item sk-dashed-wrapped\"><div class=\"sk-label-container\"><div class=\"sk-label sk-toggleable\"><input class=\"sk-toggleable__control sk-hidden--visually\" id=\"sk-estimator-id-115\" type=\"checkbox\" ><label for=\"sk-estimator-id-115\" class=\"sk-toggleable__label sk-toggleable__label-arrow\">RandomizedSearchCV</label><div class=\"sk-toggleable__content\"><pre>RandomizedSearchCV(cv=5,\n                   estimator=Pipeline(steps=[(&#x27;columntransformer&#x27;,\n                                              ColumnTransformer(remainder=&#x27;passthrough&#x27;,\n                                                                transformers=[(&#x27;handle_numeric_columns&#x27;,\n                                                                               Pipeline(steps=[(&#x27;scaling&#x27;,\n                                                                                                StandardScaler()),\n                                                                                               (&#x27;drop_correlations&#x27;,\n                                                                                                DropCorrelatedFeatures())]),\n                                                                               [&#x27;Age&#x27;,\n                                                                                &#x27;RoomService&#x27;,\n                                                                                &#x27;FoodCourt&#x27;,\n                                                                                &#x27;ShoppingMall&#x27;,\n                                                                                &#x27;Spa&#x27;,\n                                                                                &#x27;VRDeck&#x27;,\n                                                                                &#x27;Num&#x27;,\n                                                                                &#x27;Group&#x27;]),\n                                                                              (&#x27;category_columns_encod...\n                                         &#x27;columntransformer__handle_numeric_columns__scaling&#x27;: [MinMaxScaler(),\n                                                                                                StandardScaler()],\n                                         &#x27;knnimputer&#x27;: [KNNImputer(),\n                                                        IterativeImputer()]},\n                                        {&#x27;classification&#x27;: [LGBMClassifier()],\n                                         &#x27;classification__n_estimators&#x27;: [100,\n                                                                          200,\n                                                                          300],\n                                         &#x27;classification__num_leaves&#x27;: [31, 50,\n                                                                        100,\n                                                                        200],\n                                         &#x27;columntransformer__handle_numeric_columns__scaling&#x27;: [None],\n                                         &#x27;knnimputer&#x27;: [KNNImputer(),\n                                                        IterativeImputer()]}],\n                   scoring=&#x27;roc_auc&#x27;, verbose=1)</pre></div></div></div><div class=\"sk-parallel\"><div class=\"sk-parallel-item\"><div class=\"sk-item\"><div class=\"sk-label-container\"><div class=\"sk-label sk-toggleable\"><input class=\"sk-toggleable__control sk-hidden--visually\" id=\"sk-estimator-id-116\" type=\"checkbox\" ><label for=\"sk-estimator-id-116\" class=\"sk-toggleable__label sk-toggleable__label-arrow\">estimator: Pipeline</label><div class=\"sk-toggleable__content\"><pre>Pipeline(steps=[(&#x27;columntransformer&#x27;,\n                 ColumnTransformer(remainder=&#x27;passthrough&#x27;,\n                                   transformers=[(&#x27;handle_numeric_columns&#x27;,\n                                                  Pipeline(steps=[(&#x27;scaling&#x27;,\n                                                                   StandardScaler()),\n                                                                  (&#x27;drop_correlations&#x27;,\n                                                                   DropCorrelatedFeatures())]),\n                                                  [&#x27;Age&#x27;, &#x27;RoomService&#x27;,\n                                                   &#x27;FoodCourt&#x27;, &#x27;ShoppingMall&#x27;,\n                                                   &#x27;Spa&#x27;, &#x27;VRDeck&#x27;, &#x27;Num&#x27;,\n                                                   &#x27;Group&#x27;]),\n                                                 (&#x27;category_columns_encoding&#x27;,\n                                                  OrdinalEncoder(handle_unknown...\n                                                  [&#x27;HomePlanet&#x27;, &#x27;Destination&#x27;,\n                                                   &#x27;Deck&#x27;]),\n                                                 (&#x27;binary_columns_encoding&#x27;,\n                                                  OneHotEncoder(drop=&#x27;first&#x27;,\n                                                                handle_unknown=&#x27;ignore&#x27;),\n                                                  [&#x27;CryoSleep&#x27;, &#x27;VIP&#x27;,\n                                                   &#x27;Side&#x27;])])),\n                (&#x27;dropduplicatefeatures&#x27;, DropDuplicateFeatures()),\n                (&#x27;knnimputer&#x27;, KNNImputer()),\n                (&#x27;outlier_detector&#x27;,\n                 FunctionSampler(func=&lt;function handle_outliers at 0x00000207CBCB49D0&gt;)),\n                (&#x27;classification&#x27;, DummyClassifier())])</pre></div></div></div><div class=\"sk-serial\"><div class=\"sk-item\"><div class=\"sk-serial\"><div class=\"sk-item sk-dashed-wrapped\"><div class=\"sk-label-container\"><div class=\"sk-label sk-toggleable\"><input class=\"sk-toggleable__control sk-hidden--visually\" id=\"sk-estimator-id-117\" type=\"checkbox\" ><label for=\"sk-estimator-id-117\" class=\"sk-toggleable__label sk-toggleable__label-arrow\">columntransformer: ColumnTransformer</label><div class=\"sk-toggleable__content\"><pre>ColumnTransformer(remainder=&#x27;passthrough&#x27;,\n                  transformers=[(&#x27;handle_numeric_columns&#x27;,\n                                 Pipeline(steps=[(&#x27;scaling&#x27;, StandardScaler()),\n                                                 (&#x27;drop_correlations&#x27;,\n                                                  DropCorrelatedFeatures())]),\n                                 [&#x27;Age&#x27;, &#x27;RoomService&#x27;, &#x27;FoodCourt&#x27;,\n                                  &#x27;ShoppingMall&#x27;, &#x27;Spa&#x27;, &#x27;VRDeck&#x27;, &#x27;Num&#x27;,\n                                  &#x27;Group&#x27;]),\n                                (&#x27;category_columns_encoding&#x27;,\n                                 OrdinalEncoder(handle_unknown=&#x27;use_encoded_value&#x27;,\n                                                unknown_value=-1),\n                                 [&#x27;HomePlanet&#x27;, &#x27;Destination&#x27;, &#x27;Deck&#x27;]),\n                                (&#x27;binary_columns_encoding&#x27;,\n                                 OneHotEncoder(drop=&#x27;first&#x27;,\n                                               handle_unknown=&#x27;ignore&#x27;),\n                                 [&#x27;CryoSleep&#x27;, &#x27;VIP&#x27;, &#x27;Side&#x27;])])</pre></div></div></div><div class=\"sk-parallel\"><div class=\"sk-parallel-item\"><div class=\"sk-item\"><div class=\"sk-label-container\"><div class=\"sk-label sk-toggleable\"><input class=\"sk-toggleable__control sk-hidden--visually\" id=\"sk-estimator-id-118\" type=\"checkbox\" ><label for=\"sk-estimator-id-118\" class=\"sk-toggleable__label sk-toggleable__label-arrow\">handle_numeric_columns</label><div class=\"sk-toggleable__content\"><pre>[&#x27;Age&#x27;, &#x27;RoomService&#x27;, &#x27;FoodCourt&#x27;, &#x27;ShoppingMall&#x27;, &#x27;Spa&#x27;, &#x27;VRDeck&#x27;, &#x27;Num&#x27;, &#x27;Group&#x27;]</pre></div></div></div><div class=\"sk-serial\"><div class=\"sk-item\"><div class=\"sk-serial\"><div class=\"sk-item\"><div class=\"sk-estimator sk-toggleable\"><input class=\"sk-toggleable__control sk-hidden--visually\" id=\"sk-estimator-id-119\" type=\"checkbox\" ><label for=\"sk-estimator-id-119\" class=\"sk-toggleable__label sk-toggleable__label-arrow\">StandardScaler</label><div class=\"sk-toggleable__content\"><pre>StandardScaler()</pre></div></div></div><div class=\"sk-item\"><div class=\"sk-estimator sk-toggleable\"><input class=\"sk-toggleable__control sk-hidden--visually\" id=\"sk-estimator-id-120\" type=\"checkbox\" ><label for=\"sk-estimator-id-120\" class=\"sk-toggleable__label sk-toggleable__label-arrow\">DropCorrelatedFeatures</label><div class=\"sk-toggleable__content\"><pre>DropCorrelatedFeatures()</pre></div></div></div></div></div></div></div></div><div class=\"sk-parallel-item\"><div class=\"sk-item\"><div class=\"sk-label-container\"><div class=\"sk-label sk-toggleable\"><input class=\"sk-toggleable__control sk-hidden--visually\" id=\"sk-estimator-id-121\" type=\"checkbox\" ><label for=\"sk-estimator-id-121\" class=\"sk-toggleable__label sk-toggleable__label-arrow\">category_columns_encoding</label><div class=\"sk-toggleable__content\"><pre>[&#x27;HomePlanet&#x27;, &#x27;Destination&#x27;, &#x27;Deck&#x27;]</pre></div></div></div><div class=\"sk-serial\"><div class=\"sk-item\"><div class=\"sk-estimator sk-toggleable\"><input class=\"sk-toggleable__control sk-hidden--visually\" id=\"sk-estimator-id-122\" type=\"checkbox\" ><label for=\"sk-estimator-id-122\" class=\"sk-toggleable__label sk-toggleable__label-arrow\">OrdinalEncoder</label><div class=\"sk-toggleable__content\"><pre>OrdinalEncoder(handle_unknown=&#x27;use_encoded_value&#x27;, unknown_value=-1)</pre></div></div></div></div></div></div><div class=\"sk-parallel-item\"><div class=\"sk-item\"><div class=\"sk-label-container\"><div class=\"sk-label sk-toggleable\"><input class=\"sk-toggleable__control sk-hidden--visually\" id=\"sk-estimator-id-123\" type=\"checkbox\" ><label for=\"sk-estimator-id-123\" class=\"sk-toggleable__label sk-toggleable__label-arrow\">binary_columns_encoding</label><div class=\"sk-toggleable__content\"><pre>[&#x27;CryoSleep&#x27;, &#x27;VIP&#x27;, &#x27;Side&#x27;]</pre></div></div></div><div class=\"sk-serial\"><div class=\"sk-item\"><div class=\"sk-estimator sk-toggleable\"><input class=\"sk-toggleable__control sk-hidden--visually\" id=\"sk-estimator-id-124\" type=\"checkbox\" ><label for=\"sk-estimator-id-124\" class=\"sk-toggleable__label sk-toggleable__label-arrow\">OneHotEncoder</label><div class=\"sk-toggleable__content\"><pre>OneHotEncoder(drop=&#x27;first&#x27;, handle_unknown=&#x27;ignore&#x27;)</pre></div></div></div></div></div></div><div class=\"sk-parallel-item\"><div class=\"sk-item\"><div class=\"sk-label-container\"><div class=\"sk-label sk-toggleable\"><input class=\"sk-toggleable__control sk-hidden--visually\" id=\"sk-estimator-id-125\" type=\"checkbox\" ><label for=\"sk-estimator-id-125\" class=\"sk-toggleable__label sk-toggleable__label-arrow\">remainder</label><div class=\"sk-toggleable__content\"><pre></pre></div></div></div><div class=\"sk-serial\"><div class=\"sk-item\"><div class=\"sk-estimator sk-toggleable\"><input class=\"sk-toggleable__control sk-hidden--visually\" id=\"sk-estimator-id-126\" type=\"checkbox\" ><label for=\"sk-estimator-id-126\" class=\"sk-toggleable__label sk-toggleable__label-arrow\">passthrough</label><div class=\"sk-toggleable__content\"><pre>passthrough</pre></div></div></div></div></div></div></div></div><div class=\"sk-item\"><div class=\"sk-estimator sk-toggleable\"><input class=\"sk-toggleable__control sk-hidden--visually\" id=\"sk-estimator-id-127\" type=\"checkbox\" ><label for=\"sk-estimator-id-127\" class=\"sk-toggleable__label sk-toggleable__label-arrow\">DropDuplicateFeatures</label><div class=\"sk-toggleable__content\"><pre>DropDuplicateFeatures()</pre></div></div></div><div class=\"sk-item\"><div class=\"sk-estimator sk-toggleable\"><input class=\"sk-toggleable__control sk-hidden--visually\" id=\"sk-estimator-id-128\" type=\"checkbox\" ><label for=\"sk-estimator-id-128\" class=\"sk-toggleable__label sk-toggleable__label-arrow\">KNNImputer</label><div class=\"sk-toggleable__content\"><pre>KNNImputer()</pre></div></div></div><div class=\"sk-item\"><div class=\"sk-estimator sk-toggleable\"><input class=\"sk-toggleable__control sk-hidden--visually\" id=\"sk-estimator-id-129\" type=\"checkbox\" ><label for=\"sk-estimator-id-129\" class=\"sk-toggleable__label sk-toggleable__label-arrow\">FunctionSampler</label><div class=\"sk-toggleable__content\"><pre>FunctionSampler(func=&lt;function handle_outliers at 0x00000207CBCB49D0&gt;)</pre></div></div></div><div class=\"sk-item\"><div class=\"sk-estimator sk-toggleable\"><input class=\"sk-toggleable__control sk-hidden--visually\" id=\"sk-estimator-id-130\" type=\"checkbox\" ><label for=\"sk-estimator-id-130\" class=\"sk-toggleable__label sk-toggleable__label-arrow\">DummyClassifier</label><div class=\"sk-toggleable__content\"><pre>DummyClassifier()</pre></div></div></div></div></div></div></div></div></div></div></div></div>"
     },
     "execution_count": 113,
     "metadata": {},
     "output_type": "execute_result"
    }
   ],
   "source": [
    "%%time\n",
    "\n",
    "grid.fit(train_features, train_target)"
   ],
   "metadata": {
    "collapsed": false
   }
  },
  {
   "cell_type": "code",
   "execution_count": 114,
   "outputs": [
    {
     "data": {
      "text/plain": "{'knnimputer': KNNImputer(),\n 'columntransformer__handle_numeric_columns__scaling': None,\n 'classification__n_estimators': 200,\n 'classification__max_depth': 5,\n 'classification': <catboost.core.CatBoostClassifier at 0x207c5815210>}"
     },
     "execution_count": 114,
     "metadata": {},
     "output_type": "execute_result"
    }
   ],
   "source": [
    "# Посмотрим лучшие параметры\n",
    "grid.best_params_"
   ],
   "metadata": {
    "collapsed": false
   }
  },
  {
   "cell_type": "code",
   "execution_count": 115,
   "outputs": [
    {
     "data": {
      "text/plain": "0.8948793920733398"
     },
     "execution_count": 115,
     "metadata": {},
     "output_type": "execute_result"
    }
   ],
   "source": [
    "# Посмотрим получившуюся лучшую метрику\n",
    "grid.best_score_"
   ],
   "metadata": {
    "collapsed": false
   }
  },
  {
   "cell_type": "code",
   "execution_count": 117,
   "outputs": [
    {
     "data": {
      "text/plain": "array(['True', 'True', 'True', ..., 'False', 'False', 'False'],\n      dtype=object)"
     },
     "execution_count": 117,
     "metadata": {},
     "output_type": "execute_result"
    }
   ],
   "source": [
    "# Посчитаем предсказания на тестовой выборке\n",
    "predictions = grid.predict(test_splitted_columns)\n",
    "predictions"
   ],
   "metadata": {
    "collapsed": false
   }
  },
  {
   "cell_type": "code",
   "execution_count": 118,
   "outputs": [
    {
     "data": {
      "text/plain": "     PassengerId Transported\n0        8026_01        True\n1        6734_03        True\n2        8186_04        True\n3        4942_02        True\n4        8640_01       False\n...          ...         ...\n1734     5589_01       False\n1735     8229_01        True\n1736     2234_03       False\n1737     0253_01       False\n1738     8506_01       False\n\n[1739 rows x 2 columns]",
      "text/html": "<div>\n<style scoped>\n    .dataframe tbody tr th:only-of-type {\n        vertical-align: middle;\n    }\n\n    .dataframe tbody tr th {\n        vertical-align: top;\n    }\n\n    .dataframe thead th {\n        text-align: right;\n    }\n</style>\n<table border=\"1\" class=\"dataframe\">\n  <thead>\n    <tr style=\"text-align: right;\">\n      <th></th>\n      <th>PassengerId</th>\n      <th>Transported</th>\n    </tr>\n  </thead>\n  <tbody>\n    <tr>\n      <th>0</th>\n      <td>8026_01</td>\n      <td>True</td>\n    </tr>\n    <tr>\n      <th>1</th>\n      <td>6734_03</td>\n      <td>True</td>\n    </tr>\n    <tr>\n      <th>2</th>\n      <td>8186_04</td>\n      <td>True</td>\n    </tr>\n    <tr>\n      <th>3</th>\n      <td>4942_02</td>\n      <td>True</td>\n    </tr>\n    <tr>\n      <th>4</th>\n      <td>8640_01</td>\n      <td>False</td>\n    </tr>\n    <tr>\n      <th>...</th>\n      <td>...</td>\n      <td>...</td>\n    </tr>\n    <tr>\n      <th>1734</th>\n      <td>5589_01</td>\n      <td>False</td>\n    </tr>\n    <tr>\n      <th>1735</th>\n      <td>8229_01</td>\n      <td>True</td>\n    </tr>\n    <tr>\n      <th>1736</th>\n      <td>2234_03</td>\n      <td>False</td>\n    </tr>\n    <tr>\n      <th>1737</th>\n      <td>0253_01</td>\n      <td>False</td>\n    </tr>\n    <tr>\n      <th>1738</th>\n      <td>8506_01</td>\n      <td>False</td>\n    </tr>\n  </tbody>\n</table>\n<p>1739 rows × 2 columns</p>\n</div>"
     },
     "metadata": {},
     "output_type": "display_data"
    }
   ],
   "source": [
    "    # Сформируем результирующий датафрейм и сохраним его в файл на диск для предоставления результатов\n",
    "result = pd.concat([test_csv['PassengerId'], pd.Series(predictions, name='Transported')], axis=1)\n",
    "display(result)\n",
    "result.to_csv('./datasets/result.csv', index=False)\n"
   ],
   "metadata": {
    "collapsed": false
   }
  }
 ]
}
